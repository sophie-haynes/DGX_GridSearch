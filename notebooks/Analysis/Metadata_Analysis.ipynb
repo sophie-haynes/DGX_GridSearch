{
 "cells": [
  {
   "cell_type": "code",
   "execution_count": 1,
   "id": "3b9ceb71-11a7-4937-be69-ccb43c0972a6",
   "metadata": {},
   "outputs": [
    {
     "name": "stdout",
     "output_type": "stream",
     "text": [
      "Note: you may need to restart the kernel to use updated packages.\n"
     ]
    }
   ],
   "source": [
    "pip install --quiet torch torchvision captum"
   ]
  },
  {
   "cell_type": "code",
   "execution_count": 2,
   "id": "51989fa6-5610-4705-a82c-fe9a153bbc5b",
   "metadata": {},
   "outputs": [],
   "source": [
    "# add helpers to NB working path\n",
    "import sys\n",
    "sys.path.insert(1, '../')\n",
    "\n",
    "import helpers, os, pandas"
   ]
  },
  {
   "cell_type": "code",
   "execution_count": 3,
   "id": "c6ac6b96-d26f-4cca-b8bd-8c1ca2adeaff",
   "metadata": {},
   "outputs": [],
   "source": [
    "# get metadata"
   ]
  },
  {
   "cell_type": "code",
   "execution_count": 4,
   "id": "5cf6ea58-ea94-4714-97a4-92b72298eefb",
   "metadata": {},
   "outputs": [],
   "source": [
    "meta_df = pandas.read_csv(\"/home/local/data/sophie/processed_meta_full.csv\")"
   ]
  },
  {
   "cell_type": "code",
   "execution_count": 5,
   "id": "b36d9dc9-9c32-4ccd-bf71-b3f2c3c8dc34",
   "metadata": {},
   "outputs": [],
   "source": [
    "import numpy as np \n",
    "import matplotlib.pyplot as plt\n",
    "import seaborn as sns"
   ]
  },
  {
   "cell_type": "code",
   "execution_count": 37,
   "id": "8e2c20a4-e88e-4b41-b6b9-11c4d175f76a",
   "metadata": {},
   "outputs": [
    {
     "data": {
      "text/html": [
       "<div>\n",
       "<style scoped>\n",
       "    .dataframe tbody tr th:only-of-type {\n",
       "        vertical-align: middle;\n",
       "    }\n",
       "\n",
       "    .dataframe tbody tr th {\n",
       "        vertical-align: top;\n",
       "    }\n",
       "\n",
       "    .dataframe thead th {\n",
       "        text-align: right;\n",
       "    }\n",
       "</style>\n",
       "<table border=\"1\" class=\"dataframe\">\n",
       "  <thead>\n",
       "    <tr style=\"text-align: right;\">\n",
       "      <th></th>\n",
       "      <th>original_image_name</th>\n",
       "      <th>orig_dataset</th>\n",
       "      <th>label</th>\n",
       "      <th>mha</th>\n",
       "      <th>Finding Labels</th>\n",
       "      <th>Patient ID</th>\n",
       "      <th>Patient Age</th>\n",
       "      <th>Patient Gender</th>\n",
       "      <th>original_image_width</th>\n",
       "      <th>original_image_height</th>\n",
       "      <th>...</th>\n",
       "      <th>orig_bbox_width</th>\n",
       "      <th>orig_bbox_height</th>\n",
       "      <th>shared_image_width</th>\n",
       "      <th>shared_image_height</th>\n",
       "      <th>Study Year</th>\n",
       "      <th>Manufacturer</th>\n",
       "      <th>Modality</th>\n",
       "      <th>subtlety</th>\n",
       "      <th>nodule_size</th>\n",
       "      <th>malignant</th>\n",
       "    </tr>\n",
       "  </thead>\n",
       "  <tbody>\n",
       "    <tr>\n",
       "      <th>0</th>\n",
       "      <td>00010496_001</td>\n",
       "      <td>chestxray14</td>\n",
       "      <td>1</td>\n",
       "      <td>n0239.mha</td>\n",
       "      <td>Nodule</td>\n",
       "      <td>10496</td>\n",
       "      <td>44.0</td>\n",
       "      <td>M</td>\n",
       "      <td>2992.0</td>\n",
       "      <td>2991.0</td>\n",
       "      <td>...</td>\n",
       "      <td>92</td>\n",
       "      <td>94</td>\n",
       "      <td>1024</td>\n",
       "      <td>1024</td>\n",
       "      <td>NaN</td>\n",
       "      <td>NaN</td>\n",
       "      <td>NaN</td>\n",
       "      <td>NaN</td>\n",
       "      <td>NaN</td>\n",
       "      <td>NaN</td>\n",
       "    </tr>\n",
       "    <tr>\n",
       "      <th>1</th>\n",
       "      <td>00006281_000</td>\n",
       "      <td>chestxray14</td>\n",
       "      <td>1</td>\n",
       "      <td>n0342.mha</td>\n",
       "      <td>Nodule</td>\n",
       "      <td>6281</td>\n",
       "      <td>46.0</td>\n",
       "      <td>F</td>\n",
       "      <td>2500.0</td>\n",
       "      <td>2048.0</td>\n",
       "      <td>...</td>\n",
       "      <td>27</td>\n",
       "      <td>40</td>\n",
       "      <td>1024</td>\n",
       "      <td>1024</td>\n",
       "      <td>NaN</td>\n",
       "      <td>NaN</td>\n",
       "      <td>NaN</td>\n",
       "      <td>NaN</td>\n",
       "      <td>NaN</td>\n",
       "      <td>NaN</td>\n",
       "    </tr>\n",
       "    <tr>\n",
       "      <th>2</th>\n",
       "      <td>00001404_000</td>\n",
       "      <td>chestxray14</td>\n",
       "      <td>1</td>\n",
       "      <td>n0996.mha</td>\n",
       "      <td>Nodule</td>\n",
       "      <td>1404</td>\n",
       "      <td>47.0</td>\n",
       "      <td>M</td>\n",
       "      <td>2048.0</td>\n",
       "      <td>2500.0</td>\n",
       "      <td>...</td>\n",
       "      <td>155</td>\n",
       "      <td>108</td>\n",
       "      <td>1024</td>\n",
       "      <td>1024</td>\n",
       "      <td>NaN</td>\n",
       "      <td>NaN</td>\n",
       "      <td>NaN</td>\n",
       "      <td>NaN</td>\n",
       "      <td>NaN</td>\n",
       "      <td>NaN</td>\n",
       "    </tr>\n",
       "    <tr>\n",
       "      <th>3</th>\n",
       "      <td>00029196_000</td>\n",
       "      <td>chestxray14</td>\n",
       "      <td>1</td>\n",
       "      <td>n0418.mha</td>\n",
       "      <td>Nodule</td>\n",
       "      <td>29196</td>\n",
       "      <td>48.0</td>\n",
       "      <td>F</td>\n",
       "      <td>2021.0</td>\n",
       "      <td>2021.0</td>\n",
       "      <td>...</td>\n",
       "      <td>72</td>\n",
       "      <td>75</td>\n",
       "      <td>1024</td>\n",
       "      <td>1024</td>\n",
       "      <td>NaN</td>\n",
       "      <td>NaN</td>\n",
       "      <td>NaN</td>\n",
       "      <td>NaN</td>\n",
       "      <td>NaN</td>\n",
       "      <td>NaN</td>\n",
       "    </tr>\n",
       "    <tr>\n",
       "      <th>4</th>\n",
       "      <td>00014646_003</td>\n",
       "      <td>chestxray14</td>\n",
       "      <td>1</td>\n",
       "      <td>n0538.mha</td>\n",
       "      <td>Nodule</td>\n",
       "      <td>14646</td>\n",
       "      <td>55.0</td>\n",
       "      <td>M</td>\n",
       "      <td>2992.0</td>\n",
       "      <td>2991.0</td>\n",
       "      <td>...</td>\n",
       "      <td>62</td>\n",
       "      <td>69</td>\n",
       "      <td>1024</td>\n",
       "      <td>1024</td>\n",
       "      <td>NaN</td>\n",
       "      <td>NaN</td>\n",
       "      <td>NaN</td>\n",
       "      <td>NaN</td>\n",
       "      <td>NaN</td>\n",
       "      <td>NaN</td>\n",
       "    </tr>\n",
       "  </tbody>\n",
       "</table>\n",
       "<p>5 rows × 25 columns</p>\n",
       "</div>"
      ],
      "text/plain": [
       "  original_image_name orig_dataset  label        mha Finding Labels  \\\n",
       "0        00010496_001  chestxray14      1  n0239.mha         Nodule   \n",
       "1        00006281_000  chestxray14      1  n0342.mha         Nodule   \n",
       "2        00001404_000  chestxray14      1  n0996.mha         Nodule   \n",
       "3        00029196_000  chestxray14      1  n0418.mha         Nodule   \n",
       "4        00014646_003  chestxray14      1  n0538.mha         Nodule   \n",
       "\n",
       "  Patient ID  Patient Age Patient Gender  original_image_width  \\\n",
       "0      10496         44.0              M                2992.0   \n",
       "1       6281         46.0              F                2500.0   \n",
       "2       1404         47.0              M                2048.0   \n",
       "3      29196         48.0              F                2021.0   \n",
       "4      14646         55.0              M                2992.0   \n",
       "\n",
       "   original_image_height  ...  orig_bbox_width  orig_bbox_height  \\\n",
       "0                 2991.0  ...               92                94   \n",
       "1                 2048.0  ...               27                40   \n",
       "2                 2500.0  ...              155               108   \n",
       "3                 2021.0  ...               72                75   \n",
       "4                 2991.0  ...               62                69   \n",
       "\n",
       "  shared_image_width  shared_image_height  Study Year  Manufacturer  Modality  \\\n",
       "0               1024                 1024         NaN           NaN       NaN   \n",
       "1               1024                 1024         NaN           NaN       NaN   \n",
       "2               1024                 1024         NaN           NaN       NaN   \n",
       "3               1024                 1024         NaN           NaN       NaN   \n",
       "4               1024                 1024         NaN           NaN       NaN   \n",
       "\n",
       "   subtlety  nodule_size  malignant  \n",
       "0       NaN          NaN        NaN  \n",
       "1       NaN          NaN        NaN  \n",
       "2       NaN          NaN        NaN  \n",
       "3       NaN          NaN        NaN  \n",
       "4       NaN          NaN        NaN  \n",
       "\n",
       "[5 rows x 25 columns]"
      ]
     },
     "execution_count": 37,
     "metadata": {},
     "output_type": "execute_result"
    }
   ],
   "source": [
    "meta_df.head()"
   ]
  },
  {
   "cell_type": "code",
   "execution_count": 32,
   "id": "f76da302-9aba-4682-8f19-4677d9d8f5d2",
   "metadata": {},
   "outputs": [],
   "source": [
    "# import os\n",
    "# image_dir = \"/home/local/data/sophie/node21_combined/\"\n",
    "# #cxr14/test/1_nodule/n0023_idx4018.png\n",
    "# distribution = []\n",
    "# for i in range(0, len(meta_df)):\n",
    "#     row = meta_df.iloc[i]\n",
    "#     dataset = \"cxr14\" if row.orig_dataset == \"chestxray14\" else row.orig_dataset\n",
    "#     label = \"1_nodule\" if row.label == 1 else \"0_normal\"\n",
    "#     test_files = os.listdir(os.path.join(image_dir, dataset, \"test\", label))\n",
    "#     if len([f for f in test_files if row.mha[:-4] in f])>0:\n",
    "#         distribution.append(\"Test\")\n",
    "#     else:\n",
    "#         if dataset in [\"cxr14\",\"padchest\"]:\n",
    "#             train_files = os.listdir(os.path.join(image_dir, dataset, \"train\", label))\n",
    "#             if len([f for f in train_files if row.mha[:-4] in f])>0:\n",
    "#                 distribution.append(\"Train\")\n",
    "#             else:\n",
    "#                 distribution.append(\"None\")\n",
    "#         else:\n",
    "#             distribution.append(\"None\")\n",
    "    "
   ]
  },
  {
   "cell_type": "code",
   "execution_count": 35,
   "id": "4787dcf1-6999-4e22-b49f-087093db2657",
   "metadata": {},
   "outputs": [],
   "source": [
    "# meta_df['Partition'] = distribution"
   ]
  },
  {
   "cell_type": "code",
   "execution_count": 48,
   "id": "9211384c-6a4c-41e5-8bdc-3459e73a440e",
   "metadata": {},
   "outputs": [],
   "source": [
    "# meta_df.to_csv(\"/home/local/data/sophie/processed_meta_full.csv\",index=False)"
   ]
  },
  {
   "cell_type": "code",
   "execution_count": 47,
   "id": "2d3d511f-f134-46b3-ae37-c8231700a49e",
   "metadata": {},
   "outputs": [
    {
     "data": {
      "text/plain": [
       "<seaborn.axisgrid.FacetGrid at 0x7f67656d20d0>"
      ]
     },
     "execution_count": 47,
     "metadata": {},
     "output_type": "execute_result"
    },
    {
     "name": "stderr",
     "output_type": "stream",
     "text": [
      "/opt/conda/lib/python3.11/site-packages/IPython/core/pylabtools.py:152: MatplotlibDeprecationWarning: savefig() got unexpected keyword argument \"orientation\" which is no longer supported as of 3.3 and will become an error two minor releases later\n",
      "  fig.canvas.print_figure(bytes_io, **kw)\n",
      "/opt/conda/lib/python3.11/site-packages/IPython/core/pylabtools.py:152: MatplotlibDeprecationWarning: savefig() got unexpected keyword argument \"dpi\" which is no longer supported as of 3.3 and will become an error two minor releases later\n",
      "  fig.canvas.print_figure(bytes_io, **kw)\n",
      "/opt/conda/lib/python3.11/site-packages/IPython/core/pylabtools.py:152: MatplotlibDeprecationWarning: savefig() got unexpected keyword argument \"facecolor\" which is no longer supported as of 3.3 and will become an error two minor releases later\n",
      "  fig.canvas.print_figure(bytes_io, **kw)\n",
      "/opt/conda/lib/python3.11/site-packages/IPython/core/pylabtools.py:152: MatplotlibDeprecationWarning: savefig() got unexpected keyword argument \"edgecolor\" which is no longer supported as of 3.3 and will become an error two minor releases later\n",
      "  fig.canvas.print_figure(bytes_io, **kw)\n",
      "/opt/conda/lib/python3.11/site-packages/IPython/core/pylabtools.py:152: MatplotlibDeprecationWarning: savefig() got unexpected keyword argument \"bbox_inches_restore\" which is no longer supported as of 3.3 and will become an error two minor releases later\n",
      "  fig.canvas.print_figure(bytes_io, **kw)\n"
     ]
    },
    {
     "data": {
      "image/png": "[encoded data removed]",
      "text/plain": [
       "<Figure size 1558.88x1000 with 6 Axes>"
      ]
     },
     "metadata": {},
     "output_type": "display_data"
    }
   ],
   "source": [
    "sns.catplot(\n",
    "    data=meta_df[meta_df[\"Patient Age\"].notnull()].query(\"Partition != 'None'\"),\n",
    "    x=\"Patient Age\",\n",
    "    hue=\"label\",\n",
    "    row=\"Partition\",\n",
    "    col=\"orig_dataset\",\n",
    "    kind=\"count\",\n",
    ")"
   ]
  },
  {
   "cell_type": "code",
   "execution_count": 49,
   "id": "d37b2e80-cc17-43ce-8ee3-c854af0f0ee4",
   "metadata": {},
   "outputs": [
    {
     "data": {
      "text/plain": [
       "<AxesSubplot:xlabel='Patient Age', ylabel='Count'>"
      ]
     },
     "execution_count": 49,
     "metadata": {},
     "output_type": "execute_result"
    },
    {
     "name": "stderr",
     "output_type": "stream",
     "text": [
      "/opt/conda/lib/python3.11/site-packages/IPython/core/pylabtools.py:152: MatplotlibDeprecationWarning: savefig() got unexpected keyword argument \"orientation\" which is no longer supported as of 3.3 and will become an error two minor releases later\n",
      "  fig.canvas.print_figure(bytes_io, **kw)\n",
      "/opt/conda/lib/python3.11/site-packages/IPython/core/pylabtools.py:152: MatplotlibDeprecationWarning: savefig() got unexpected keyword argument \"dpi\" which is no longer supported as of 3.3 and will become an error two minor releases later\n",
      "  fig.canvas.print_figure(bytes_io, **kw)\n",
      "/opt/conda/lib/python3.11/site-packages/IPython/core/pylabtools.py:152: MatplotlibDeprecationWarning: savefig() got unexpected keyword argument \"facecolor\" which is no longer supported as of 3.3 and will become an error two minor releases later\n",
      "  fig.canvas.print_figure(bytes_io, **kw)\n",
      "/opt/conda/lib/python3.11/site-packages/IPython/core/pylabtools.py:152: MatplotlibDeprecationWarning: savefig() got unexpected keyword argument \"edgecolor\" which is no longer supported as of 3.3 and will become an error two minor releases later\n",
      "  fig.canvas.print_figure(bytes_io, **kw)\n",
      "/opt/conda/lib/python3.11/site-packages/IPython/core/pylabtools.py:152: MatplotlibDeprecationWarning: savefig() got unexpected keyword argument \"bbox_inches_restore\" which is no longer supported as of 3.3 and will become an error two minor releases later\n",
      "  fig.canvas.print_figure(bytes_io, **kw)\n"
     ]
    },
    {
     "data": {
      "image/png": "[encoded data removed]",
      "text/plain": [
       "<Figure size 640x480 with 1 Axes>"
      ]
     },
     "metadata": {},
     "output_type": "display_data"
    }
   ],
   "source": [
    "sns.histplot(\n",
    "    data=meta_df[meta_df[\"Patient Age\"].notnull()].query(\"Partition != 'None'\"),\n",
    "    x = 'Patient Age',\n",
    "    hue='label',\n",
    "\n",
    ")"
   ]
  },
  {
   "cell_type": "code",
   "execution_count": 11,
   "id": "1046b12a-5267-4aa6-92e5-35e7ae246a53",
   "metadata": {},
   "outputs": [
    {
     "data": {
      "text/plain": [
       "Index(['original_image_name', 'orig_dataset', 'label', 'mha', 'Finding Labels',\n",
       "       'Patient ID', 'Patient Age', 'Patient Gender', 'original_image_width',\n",
       "       'original_image_height', 'Pneumothorax', 'Cardiomegaly', 'Nodule',\n",
       "       'orig_bbox_x', 'orig_bbox_y', 'orig_bbox_width', 'orig_bbox_height',\n",
       "       'shared_image_width', 'shared_image_height', 'Study Year',\n",
       "       'Manufacturer', 'Modality', 'subtlety', 'nodule_size', 'malignant'],\n",
       "      dtype='object')"
      ]
     },
     "execution_count": 11,
     "metadata": {},
     "output_type": "execute_result"
    }
   ],
   "source": [
    "meta_df.columns"
   ]
  },
  {
   "cell_type": "code",
   "execution_count": 16,
   "id": "2b9f136a-dae9-407b-aa49-18602f90794a",
   "metadata": {},
   "outputs": [
    {
     "data": {
      "text/html": [
       "<div>\n",
       "<style scoped>\n",
       "    .dataframe tbody tr th:only-of-type {\n",
       "        vertical-align: middle;\n",
       "    }\n",
       "\n",
       "    .dataframe tbody tr th {\n",
       "        vertical-align: top;\n",
       "    }\n",
       "\n",
       "    .dataframe thead th {\n",
       "        text-align: right;\n",
       "    }\n",
       "</style>\n",
       "<table border=\"1\" class=\"dataframe\">\n",
       "  <thead>\n",
       "    <tr style=\"text-align: right;\">\n",
       "      <th></th>\n",
       "      <th>Patient Age</th>\n",
       "      <th>original_image_width</th>\n",
       "      <th>Pneumothorax</th>\n",
       "      <th>Cardiomegaly</th>\n",
       "      <th>Study Year</th>\n",
       "      <th>subtlety</th>\n",
       "      <th>nodule_size</th>\n",
       "    </tr>\n",
       "  </thead>\n",
       "  <tbody>\n",
       "    <tr>\n",
       "      <th>count</th>\n",
       "      <td>3724.000000</td>\n",
       "      <td>3484.000000</td>\n",
       "      <td>1804.000000</td>\n",
       "      <td>1804.000000</td>\n",
       "      <td>1680.000000</td>\n",
       "      <td>149.000000</td>\n",
       "      <td>149.000000</td>\n",
       "    </tr>\n",
       "    <tr>\n",
       "      <th>mean</th>\n",
       "      <td>52.850430</td>\n",
       "      <td>2520.526406</td>\n",
       "      <td>0.011086</td>\n",
       "      <td>0.003326</td>\n",
       "      <td>2014.116071</td>\n",
       "      <td>2.859060</td>\n",
       "      <td>16.691275</td>\n",
       "    </tr>\n",
       "    <tr>\n",
       "      <th>std</th>\n",
       "      <td>15.173079</td>\n",
       "      <td>544.253730</td>\n",
       "      <td>0.104736</td>\n",
       "      <td>0.057591</td>\n",
       "      <td>2.395445</td>\n",
       "      <td>1.168391</td>\n",
       "      <td>6.185095</td>\n",
       "    </tr>\n",
       "    <tr>\n",
       "      <th>min</th>\n",
       "      <td>6.000000</td>\n",
       "      <td>1356.000000</td>\n",
       "      <td>0.000000</td>\n",
       "      <td>0.000000</td>\n",
       "      <td>2009.000000</td>\n",
       "      <td>1.000000</td>\n",
       "      <td>6.000000</td>\n",
       "    </tr>\n",
       "    <tr>\n",
       "      <th>25%</th>\n",
       "      <td>43.000000</td>\n",
       "      <td>2048.000000</td>\n",
       "      <td>0.000000</td>\n",
       "      <td>0.000000</td>\n",
       "      <td>2013.000000</td>\n",
       "      <td>2.000000</td>\n",
       "      <td>12.000000</td>\n",
       "    </tr>\n",
       "    <tr>\n",
       "      <th>50%</th>\n",
       "      <td>53.000000</td>\n",
       "      <td>2500.000000</td>\n",
       "      <td>0.000000</td>\n",
       "      <td>0.000000</td>\n",
       "      <td>2015.000000</td>\n",
       "      <td>3.000000</td>\n",
       "      <td>15.000000</td>\n",
       "    </tr>\n",
       "    <tr>\n",
       "      <th>75%</th>\n",
       "      <td>64.000000</td>\n",
       "      <td>2890.500000</td>\n",
       "      <td>0.000000</td>\n",
       "      <td>0.000000</td>\n",
       "      <td>2016.000000</td>\n",
       "      <td>4.000000</td>\n",
       "      <td>20.000000</td>\n",
       "    </tr>\n",
       "    <tr>\n",
       "      <th>max</th>\n",
       "      <td>93.000000</td>\n",
       "      <td>4280.000000</td>\n",
       "      <td>1.000000</td>\n",
       "      <td>1.000000</td>\n",
       "      <td>2017.000000</td>\n",
       "      <td>5.000000</td>\n",
       "      <td>30.000000</td>\n",
       "    </tr>\n",
       "  </tbody>\n",
       "</table>\n",
       "</div>"
      ],
      "text/plain": [
       "       Patient Age  original_image_width  Pneumothorax  Cardiomegaly  \\\n",
       "count  3724.000000           3484.000000   1804.000000   1804.000000   \n",
       "mean     52.850430           2520.526406      0.011086      0.003326   \n",
       "std      15.173079            544.253730      0.104736      0.057591   \n",
       "min       6.000000           1356.000000      0.000000      0.000000   \n",
       "25%      43.000000           2048.000000      0.000000      0.000000   \n",
       "50%      53.000000           2500.000000      0.000000      0.000000   \n",
       "75%      64.000000           2890.500000      0.000000      0.000000   \n",
       "max      93.000000           4280.000000      1.000000      1.000000   \n",
       "\n",
       "        Study Year    subtlety  nodule_size  \n",
       "count  1680.000000  149.000000   149.000000  \n",
       "mean   2014.116071    2.859060    16.691275  \n",
       "std       2.395445    1.168391     6.185095  \n",
       "min    2009.000000    1.000000     6.000000  \n",
       "25%    2013.000000    2.000000    12.000000  \n",
       "50%    2015.000000    3.000000    15.000000  \n",
       "75%    2016.000000    4.000000    20.000000  \n",
       "max    2017.000000    5.000000    30.000000  "
      ]
     },
     "execution_count": 16,
     "metadata": {},
     "output_type": "execute_result"
    }
   ],
   "source": [
    "meta_df[['Patient Age', 'original_image_width','Pneumothorax','Cardiomegaly', 'Study Year', 'subtlety', 'nodule_size', ]].describe()"
   ]
  },
  {
   "cell_type": "code",
   "execution_count": 12,
   "id": "54da5c65-914e-49ef-b298-d6756053f64a",
   "metadata": {},
   "outputs": [
    {
     "data": {
      "text/plain": [
       "array([ 0.,  1., nan])"
      ]
     },
     "execution_count": 12,
     "metadata": {},
     "output_type": "execute_result"
    }
   ],
   "source": [
    "meta_df.Pneumothorax.unique()"
   ]
  },
  {
   "cell_type": "code",
   "execution_count": 4,
   "id": "53a0bd31-5a53-4373-81ca-ba2385041c00",
   "metadata": {},
   "outputs": [],
   "source": [
    "# load model"
   ]
  },
  {
   "cell_type": "code",
   "execution_count": 5,
   "id": "5ec0e520-6456-463f-94e6-a092cdc6af89",
   "metadata": {},
   "outputs": [],
   "source": [
    "# load data"
   ]
  },
  {
   "cell_type": "code",
   "execution_count": null,
   "id": "727e73f2-c096-4227-8323-6ee3de3460ff",
   "metadata": {},
   "outputs": [],
   "source": []
  }
 ],
 "metadata": {
  "kernelspec": {
   "display_name": "Python 3 (ipykernel)",
   "language": "python",
   "name": "python3"
  },
  "language_info": {
   "codemirror_mode": {
    "name": "ipython",
    "version": 3
   },
   "file_extension": ".py",
   "mimetype": "text/x-python",
   "name": "python",
   "nbconvert_exporter": "python",
   "pygments_lexer": "ipython3",
   "version": "3.11.8"
  }
 },
 "nbformat": 4,
 "nbformat_minor": 5
}
