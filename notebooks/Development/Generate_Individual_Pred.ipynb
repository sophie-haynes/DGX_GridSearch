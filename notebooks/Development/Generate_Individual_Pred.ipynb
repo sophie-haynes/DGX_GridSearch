{
 "cells": [
  {
   "cell_type": "markdown",
   "id": "00b71ddf-e0c0-4ed0-bc2c-27cb2f3d8efc",
   "metadata": {},
   "source": [
    "This notebook is to load each model, and export the predicted labels for each image in the test sets. This will allow for metric calculation (specificity at 98% sensitivity, reworked precision/recall/f1 etc), but more importantly, for sub-group reporting. Specifically, for example, performance on gender, age, machine etc."
   ]
  },
  {
   "cell_type": "code",
   "execution_count": 3,
   "id": "d463f5ea-9539-4ce5-8333-2885d7547edc",
   "metadata": {},
   "outputs": [],
   "source": [
    "!pip install --quiet opencv-python torch torchvision captum "
   ]
  },
  {
   "cell_type": "code",
   "execution_count": null,
   "id": "22f60ca0-37f6-4630-a002-4690ad90fcc7",
   "metadata": {},
   "outputs": [],
   "source": [
    "import sys\n",
    "sys.path.insert(1, '../../')\n",
    "import helpers, os\n",
    "from PIL import Image\n",
    "import cv2, numpy as np\n",
    "import matplotlib.pyplot as plt\n",
    "import matplotlib.patches as patches\n",
    "import pandas as pd\n",
    "from helpers.attribution import convert_to_uint8\n",
    "\n",
    "device = helpers.models.get_device()"
   ]
  },
  {
   "cell_type": "markdown",
   "id": "805e8472-dd65-4bc7-906d-2a68c6ba0c9c",
   "metadata": {},
   "source": [
    "### Load models into CPU"
   ]
  },
  {
   "cell_type": "code",
   "execution_count": 5,
   "id": "03da5150-bec6-414a-a21d-b8cf0f11915b",
   "metadata": {},
   "outputs": [],
   "source": [
    "\n",
    "models_base_pth = \"/home/local/data/sophie/padcxr14_models/step_decay_cxr14/arch_seg/\"\n",
    "full_config_path = \"full_network/{}/lr_step_decay_10_epochs_0.1_rate/model_lr_0.0005_bsz_16_mom_0.99_seed_{}_pos-weight_1.0.pth/model_17.pth\"\n",
    "training_type = \"full\"\n",
    "# load base models to cpu\n",
    "base_full_model_1 = helpers.models.load_trained_resnet50(os.path.join(models_base_pth,full_config_path.format(\"base\",\"42\")),device=\"cpu\")\n",
    "base_full_model_2 = helpers.models.load_trained_resnet50(os.path.join(models_base_pth,full_config_path.format(\"base\",\"43\")),device=\"cpu\")\n",
    "base_full_model_3 = helpers.models.load_trained_resnet50(os.path.join(models_base_pth,full_config_path.format(\"base\",\"44\")),device=\"cpu\")\n",
    "\n",
    "# load grey models to cpu\n",
    "grey_full_model_1 = helpers.models.load_trained_resnet50(os.path.join(models_base_pth,full_config_path.format(\"grey\",\"42\")),device=\"cpu\")\n",
    "grey_full_model_2 = helpers.models.load_trained_resnet50(os.path.join(models_base_pth,full_config_path.format(\"grey\",\"43\")),device=\"cpu\")\n",
    "grey_full_model_3 = helpers.models.load_trained_resnet50(os.path.join(models_base_pth,full_config_path.format(\"grey\",\"44\")),device=\"cpu\")\n",
    "\n",
    "# load single models to cpu\n",
    "single_full_model_1 = helpers.models.load_trained_resnet50(\n",
    "    os.path.join(models_base_pth,full_config_path.format(\"single\",\"42\")),\n",
    "    device=\"cpu\",\n",
    "    single=True\n",
    ")\n",
    "single_full_model_2 = helpers.models.load_trained_resnet50(\n",
    "    os.path.join(models_base_pth,full_config_path.format(\"single\",\"43\")),\n",
    "    device=\"cpu\",\n",
    "    single=True\n",
    ")\n",
    "single_full_model_3 = helpers.models.load_trained_resnet50(\n",
    "    os.path.join(models_base_pth,full_config_path.format(\"single\",\"44\")),\n",
    "    device=\"cpu\",\n",
    "    single=True\n",
    ")\n",
    "\n",
    "# load base models to cpu\n",
    "base65_full_model_1 = helpers.models.load_trained_resnet50(os.path.join(models_base_pth,full_config_path.format(\"base65\",\"42\")),device=\"cpu\")\n",
    "base65_full_model_2 = helpers.models.load_trained_resnet50(os.path.join(models_base_pth,full_config_path.format(\"base65\",\"43\")),device=\"cpu\")\n",
    "base65_full_model_3 = helpers.models.load_trained_resnet50(os.path.join(models_base_pth,full_config_path.format(\"base65\",\"44\")),device=\"cpu\")\n",
    "\n",
    "# load grey models to cpu\n",
    "grey65_full_model_1 = helpers.models.load_trained_resnet50(os.path.join(models_base_pth,full_config_path.format(\"grey65\",\"42\")),device=\"cpu\")\n",
    "grey65_full_model_2 = helpers.models.load_trained_resnet50(os.path.join(models_base_pth,full_config_path.format(\"grey65\",\"43\")),device=\"cpu\")\n",
    "grey65_full_model_3 = helpers.models.load_trained_resnet50(os.path.join(models_base_pth,full_config_path.format(\"grey65\",\"44\")),device=\"cpu\")\n",
    "\n",
    "# load single models to cpu\n",
    "single65_full_model_1 = helpers.models.load_trained_resnet50(\n",
    "    os.path.join(models_base_pth,full_config_path.format(\"single65\",\"42\")),\n",
    "    device=\"cpu\",\n",
    "    single=True\n",
    ")\n",
    "single65_full_model_2 = helpers.models.load_trained_resnet50(\n",
    "    os.path.join(models_base_pth,full_config_path.format(\"single65\",\"43\")),\n",
    "    device=\"cpu\",\n",
    "    single=True\n",
    ")\n",
    "single65_full_model_3 = helpers.models.load_trained_resnet50(\n",
    "    os.path.join(models_base_pth,full_config_path.format(\"single65\",\"44\")),\n",
    "    device=\"cpu\",\n",
    "    single=True\n",
    ")\n",
    "# ==================================================\n",
    "first_config_path = \"first_layer_freeze/{}/lr_step_decay_10_epochs_0.1_rate/model_lr_0.0005_bsz_16_mom_0.99_seed_{}_pos-weight_1.0.pth/model_17.pth\"\n",
    "# load base models to cpu\n",
    "base_first_model_1 = helpers.models.load_trained_resnet50(os.path.join(models_base_pth,first_config_path.format(\"base\",\"42\")),device=\"cpu\")\n",
    "base_first_model_2 = helpers.models.load_trained_resnet50(os.path.join(models_base_pth,first_config_path.format(\"base\",\"43\")),device=\"cpu\")\n",
    "base_first_model_3 = helpers.models.load_trained_resnet50(os.path.join(models_base_pth,first_config_path.format(\"base\",\"44\")),device=\"cpu\")\n",
    "\n",
    "# load grey models to cpu\n",
    "grey_first_model_1 = helpers.models.load_trained_resnet50(os.path.join(models_base_pth,first_config_path.format(\"grey\",\"42\")),device=\"cpu\")\n",
    "grey_first_model_2 = helpers.models.load_trained_resnet50(os.path.join(models_base_pth,first_config_path.format(\"grey\",\"43\")),device=\"cpu\")\n",
    "grey_first_model_3 = helpers.models.load_trained_resnet50(os.path.join(models_base_pth,first_config_path.format(\"grey\",\"44\")),device=\"cpu\")\n",
    "\n",
    "# load single models to cpu\n",
    "single_first_model_1 = helpers.models.load_trained_resnet50(\n",
    "    os.path.join(models_base_pth,first_config_path.format(\"single\",\"42\")),\n",
    "    device=\"cpu\",\n",
    "    single=True\n",
    ")\n",
    "single_first_model_2 = helpers.models.load_trained_resnet50(\n",
    "    os.path.join(models_base_pth,first_config_path.format(\"single\",\"43\")),\n",
    "    device=\"cpu\",\n",
    "    single=True\n",
    ")\n",
    "single_first_model_3 = helpers.models.load_trained_resnet50(\n",
    "    os.path.join(models_base_pth,first_config_path.format(\"single\",\"44\")),\n",
    "    device=\"cpu\",\n",
    "    single=True\n",
    ")\n",
    "\n",
    "# load base models to cpu\n",
    "base65_first_model_1 = helpers.models.load_trained_resnet50(os.path.join(models_base_pth,first_config_path.format(\"base65\",\"42\")),device=\"cpu\")\n",
    "base65_first_model_2 = helpers.models.load_trained_resnet50(os.path.join(models_base_pth,first_config_path.format(\"base65\",\"43\")),device=\"cpu\")\n",
    "base65_first_model_3 = helpers.models.load_trained_resnet50(os.path.join(models_base_pth,first_config_path.format(\"base65\",\"44\")),device=\"cpu\")\n",
    "\n",
    "# load grey models to cpu\n",
    "grey65_first_model_1 = helpers.models.load_trained_resnet50(os.path.join(models_base_pth,first_config_path.format(\"grey65\",\"42\")),device=\"cpu\")\n",
    "grey65_first_model_2 = helpers.models.load_trained_resnet50(os.path.join(models_base_pth,first_config_path.format(\"grey65\",\"43\")),device=\"cpu\")\n",
    "grey65_first_model_3 = helpers.models.load_trained_resnet50(os.path.join(models_base_pth,first_config_path.format(\"grey65\",\"44\")),device=\"cpu\")\n",
    "\n",
    "# load single models to cpu\n",
    "single65_first_model_1 = helpers.models.load_trained_resnet50(\n",
    "    os.path.join(models_base_pth,first_config_path.format(\"single65\",\"42\")),\n",
    "    device=\"cpu\",\n",
    "    single=True\n",
    ")\n",
    "single65_first_model_2 = helpers.models.load_trained_resnet50(\n",
    "    os.path.join(models_base_pth,first_config_path.format(\"single65\",\"43\")),\n",
    "    device=\"cpu\",\n",
    "    single=True\n",
    ")\n",
    "single65_first_model_3 = helpers.models.load_trained_resnet50(\n",
    "    os.path.join(models_base_pth,first_config_path.format(\"single65\",\"44\")),\n",
    "    device=\"cpu\",\n",
    "    single=True\n",
    ")\n",
    "\n",
    "# ==================================================\n",
    "\n",
    "half_config_path = \"half_network/{}/lr_step_decay_10_epochs_0.1_rate/model_lr_0.01_bsz_16_mom_0.9_seed_{}_pos-weight_1.0.pth/model_17.pth\"\n",
    "# load base models to cpu\n",
    "base_half_model_1 = helpers.models.load_trained_resnet50(os.path.join(models_base_pth,half_config_path.format(\"base\",\"42\")),device=\"cpu\")\n",
    "base_half_model_2 = helpers.models.load_trained_resnet50(os.path.join(models_base_pth,half_config_path.format(\"base\",\"43\")),device=\"cpu\")\n",
    "base_half_model_3 = helpers.models.load_trained_resnet50(os.path.join(models_base_pth,half_config_path.format(\"base\",\"44\")),device=\"cpu\")\n",
    "\n",
    "# load grey models to cpu\n",
    "grey_half_model_1 = helpers.models.load_trained_resnet50(os.path.join(models_base_pth,half_config_path.format(\"grey\",\"42\")),device=\"cpu\")\n",
    "grey_half_model_2 = helpers.models.load_trained_resnet50(os.path.join(models_base_pth,half_config_path.format(\"grey\",\"43\")),device=\"cpu\")\n",
    "grey_half_model_3 = helpers.models.load_trained_resnet50(os.path.join(models_base_pth,half_config_path.format(\"grey\",\"44\")),device=\"cpu\")\n",
    "\n",
    "# load single models to cpu\n",
    "single_half_model_1 = helpers.models.load_trained_resnet50(\n",
    "    os.path.join(models_base_pth,half_config_path.format(\"single\",\"42\")),\n",
    "    device=\"cpu\",\n",
    "    single=True\n",
    ")\n",
    "single_half_model_2 = helpers.models.load_trained_resnet50(\n",
    "    os.path.join(models_base_pth,half_config_path.format(\"single\",\"43\")),\n",
    "    device=\"cpu\",\n",
    "    single=True\n",
    ")\n",
    "single_half_model_3 = helpers.models.load_trained_resnet50(\n",
    "    os.path.join(models_base_pth,half_config_path.format(\"single\",\"44\")),\n",
    "    device=\"cpu\",\n",
    "    single=True\n",
    ")\n",
    "\n",
    "# load base models to cpu\n",
    "base65_half_model_1 = helpers.models.load_trained_resnet50(os.path.join(models_base_pth,half_config_path.format(\"base65\",\"42\")),device=\"cpu\")\n",
    "base65_half_model_2 = helpers.models.load_trained_resnet50(os.path.join(models_base_pth,half_config_path.format(\"base65\",\"43\")),device=\"cpu\")\n",
    "base65_half_model_3 = helpers.models.load_trained_resnet50(os.path.join(models_base_pth,half_config_path.format(\"base65\",\"44\")),device=\"cpu\")\n",
    "\n",
    "# load grey models to cpu\n",
    "grey65_half_model_1 = helpers.models.load_trained_resnet50(os.path.join(models_base_pth,half_config_path.format(\"grey65\",\"42\")),device=\"cpu\")\n",
    "grey65_half_model_2 = helpers.models.load_trained_resnet50(os.path.join(models_base_pth,half_config_path.format(\"grey65\",\"43\")),device=\"cpu\")\n",
    "grey65_half_model_3 = helpers.models.load_trained_resnet50(os.path.join(models_base_pth,half_config_path.format(\"grey65\",\"44\")),device=\"cpu\")\n",
    "\n",
    "# load single models to cpu\n",
    "single65_half_model_1 = helpers.models.load_trained_resnet50(\n",
    "    os.path.join(models_base_pth,half_config_path.format(\"single65\",\"42\")),\n",
    "    device=\"cpu\",\n",
    "    single=True\n",
    ")\n",
    "single65_half_model_2 = helpers.models.load_trained_resnet50(\n",
    "    os.path.join(models_base_pth,half_config_path.format(\"single65\",\"43\")),\n",
    "    device=\"cpu\",\n",
    "    single=True\n",
    ")\n",
    "single65_half_model_3 = helpers.models.load_trained_resnet50(\n",
    "    os.path.join(models_base_pth,half_config_path.format(\"single65\",\"44\")),\n",
    "    device=\"cpu\",\n",
    "    single=True\n",
    ")\n",
    "\n",
    "# ==================================================\n"
   ]
  },
  {
   "cell_type": "markdown",
   "id": "3f31f591-4fdc-4ff4-adda-90809f30a576",
   "metadata": {},
   "source": [
    "### Load Datasets"
   ]
  },
  {
   "cell_type": "code",
   "execution_count": 6,
   "id": "dd367d52-df4d-4e9a-97b7-12255b453329",
   "metadata": {},
   "outputs": [],
   "source": [
    "data_root = \"/home/local/data/sophie/node21_combined\"\n",
    "dataset_name = \"cxr14\"\n",
    "process = \"arch\"\n",
    "std_dir = \"std_1024\"\n",
    "crop_size = 512\n",
    "bsz = 1\n",
    "\n",
    "bbox_df = helpers.bboxes.read_bounding_boxes(\"/home/local/data/sophie/node21_combined/all_bboxes.csv\")\n",
    "cxr_test = helpers.dataloading.load_dataset_with_paths(\n",
    "    dataset_path=os.path.join(data_root, dataset_name, \"test\"),\n",
    "    dataset_name=dataset_name,\n",
    "    process=process,\n",
    "    crop_size=crop_size,\n",
    "    batch_size=bsz,\n",
    "    shuffle=False\n",
    ")\n",
    "\n",
    "single_cxr_test = helpers.dataloading.load_dataset_with_paths(\n",
    "    dataset_path=os.path.join(data_root, dataset_name, \"test\"),\n",
    "    dataset_name=dataset_name,\n",
    "    process=process,\n",
    "    crop_size=crop_size,\n",
    "    batch_size=bsz,\n",
    "    shuffle=False,\n",
    "    single_channel=True\n",
    ")\n",
    "#====================================================\n",
    "dataset_name = \"padchest\"\n",
    "pad_test = helpers.dataloading.load_dataset_with_paths(\n",
    "    dataset_path=os.path.join(data_root, dataset_name, \"test\"),\n",
    "    dataset_name=dataset_name,\n",
    "    process=process,\n",
    "    crop_size=crop_size,\n",
    "    batch_size=bsz,\n",
    "    shuffle=False\n",
    ")\n",
    "\n",
    "single_pad_test = helpers.dataloading.load_dataset_with_paths(\n",
    "    dataset_path=os.path.join(data_root, dataset_name, \"test\"),\n",
    "    dataset_name=dataset_name,\n",
    "    process=process,\n",
    "    crop_size=crop_size,\n",
    "    batch_size=bsz,\n",
    "    shuffle=False,\n",
    "    single_channel=True\n",
    ")\n",
    "#====================================================\n",
    "dataset_name = \"jsrt\"\n",
    "jsrt_test = helpers.dataloading.load_dataset_with_paths(\n",
    "    dataset_path=os.path.join(data_root, dataset_name, \"test\"),\n",
    "    dataset_name=dataset_name,\n",
    "    process=process,\n",
    "    crop_size=crop_size,\n",
    "    batch_size=bsz,\n",
    "    shuffle=False\n",
    ")\n",
    "\n",
    "single_jsrt_test = helpers.dataloading.load_dataset_with_paths(\n",
    "    dataset_path=os.path.join(data_root, dataset_name, \"test\"),\n",
    "    dataset_name=dataset_name,\n",
    "    process=process,\n",
    "    crop_size=crop_size,\n",
    "    batch_size=bsz,\n",
    "    shuffle=False,\n",
    "    single_channel=True\n",
    ")\n",
    "#====================================================\n",
    "dataset_name = \"openi\"\n",
    "openi_test = helpers.dataloading.load_dataset_with_paths(\n",
    "    dataset_path=os.path.join(data_root, dataset_name, \"test\"),\n",
    "    dataset_name=dataset_name,\n",
    "    process=process,\n",
    "    crop_size=crop_size,\n",
    "    batch_size=bsz,\n",
    "    shuffle=False\n",
    ")\n",
    "\n",
    "single_openi_test = helpers.dataloading.load_dataset_with_paths(\n",
    "    dataset_path=os.path.join(data_root, dataset_name, \"test\"),\n",
    "    dataset_name=dataset_name,\n",
    "    process=process,\n",
    "    crop_size=crop_size,\n",
    "    batch_size=bsz,\n",
    "    shuffle=False,\n",
    "    single_channel=True\n",
    ")"
   ]
  },
  {
   "cell_type": "markdown",
   "id": "ca2c7cd3-541d-443f-8ab6-b65780aa122e",
   "metadata": {},
   "source": [
    "## Evaluate Models"
   ]
  },
  {
   "cell_type": "code",
   "execution_count": 35,
   "id": "9c0fc130-911e-465e-a4f5-a66f9bbdb8f9",
   "metadata": {},
   "outputs": [],
   "source": [
    "from IPython.display import clear_output\n",
    "output_base_pth = \"/home/local/data/sophie/DGX_GridSearch/raw_predictions/\""
   ]
  },
  {
   "cell_type": "markdown",
   "id": "a5b39708-98a5-4e86-a135-94b13899508e",
   "metadata": {
    "jp-MarkdownHeadingCollapsed": true
   },
   "source": [
    "### Full Network"
   ]
  },
  {
   "cell_type": "markdown",
   "id": "4894bcaf-0aaf-4d5e-8ebd-622ae143c0c0",
   "metadata": {
    "jp-MarkdownHeadingCollapsed": true
   },
   "source": [
    "#### Base Full Eval"
   ]
  },
  {
   "cell_type": "code",
   "execution_count": 22,
   "id": "4ff26b9e-4bb2-420c-9e8e-f315bde88334",
   "metadata": {},
   "outputs": [],
   "source": [
    "backbone = \"base\"\n",
    "training_strategy = \"full\"\n",
    "model_list = [base_full_model_1, base_full_model_2, base_full_model_3]\n",
    "run_seed = [42,43,44]\n",
    "dataset_list = [cxr_test, pad_test, jsrt_test, openi_test]\n",
    "dataset_names = [\"cxr14\", \"padchest\", \"jsrt\", \"openi\"]"
   ]
  },
  {
   "cell_type": "code",
   "execution_count": 31,
   "id": "1f2f5dc2-cb75-4fb7-921d-328f92c1abcc",
   "metadata": {},
   "outputs": [
    {
     "name": "stdout",
     "output_type": "stream",
     "text": [
      "model: 2  dataset 3/4  img: n1128\n"
     ]
    }
   ],
   "source": [
    "for i in range(0,len(model_list)):\n",
    "    # load model to GPU\n",
    "    model = model_list[i].to(device)\n",
    "    for j in range(0, len(dataset_list)):\n",
    "        model_ds_img_names = []\n",
    "        model_ds_img_labels = []\n",
    "        model_ds_preds_0 = []\n",
    "        model_ds_preds_1 = []\n",
    "        # index tracker for printing\n",
    "        for curr_data in dataset_list[j]:\n",
    "            clear_output(wait=True)\n",
    "            inputs, labels = curr_data[0],curr_data[1]\n",
    "            paths = np.array(curr_data[2])\n",
    "            curr_name = paths[0].split(\"/\")[-1].split(\"_\")[0]\n",
    "            print (f\"model: {i}  dataset {j}/{len(dataset_list)}  img: {curr_name}\")\n",
    "            \n",
    "            # load sample to GPU\n",
    "            inputs = inputs.to(device)\n",
    "            labels = labels.to(device)\n",
    "            curr_image = inputs[0]\n",
    "            curr_label = labels[0].cpu().item()\n",
    "            # get predictions\n",
    "            output = model(inputs)\n",
    "            pred_0 = output.cpu()[0][0].item()\n",
    "            pred_1 = output.cpu()[0][1].item()\n",
    "\n",
    "            # log preds\n",
    "            model_ds_img_names.append(curr_name)\n",
    "            model_ds_preds_0.append(pred_0)\n",
    "            model_ds_preds_1.append(pred_1)\n",
    "            model_ds_img_labels.append(labels.cpu().item())\n",
    "        # Write current model dataset predictions\n",
    "        curr_results = pd.DataFrame()\n",
    "        curr_results['img_name'] = model_ds_img_names\n",
    "        curr_results['true_label'] = model_ds_img_labels\n",
    "        curr_results['pred_0'] = model_ds_preds_0\n",
    "        curr_results['pred_1']= model_ds_preds_1\n",
    "        curr_results.to_csv(f\"{output_base_pth}/preds_{backbone}_{training_strategy}_seed{run_seed[i]}_{dataset_names[j]}.csv\", index=False)"
   ]
  },
  {
   "cell_type": "markdown",
   "id": "b2eb6a91-5ef7-46b7-a315-2779c74b7e6b",
   "metadata": {
    "jp-MarkdownHeadingCollapsed": true
   },
   "source": [
    "#### Base65 Full Eval"
   ]
  },
  {
   "cell_type": "code",
   "execution_count": 36,
   "id": "7b3edd21-e132-457e-b13d-cb475d191f25",
   "metadata": {},
   "outputs": [],
   "source": [
    "backbone = \"base65\"\n",
    "training_strategy = \"full\"\n",
    "model_list = [base65_full_model_1, base65_full_model_2, base65_full_model_3]\n",
    "run_seed = [42,43,44]\n",
    "dataset_list = [cxr_test, pad_test, jsrt_test, openi_test]\n",
    "dataset_names = [\"cxr14\", \"padchest\", \"jsrt\", \"openi\"]"
   ]
  },
  {
   "cell_type": "code",
   "execution_count": 37,
   "id": "ebc886e7-3ed7-4aa7-b1a1-fb8d4059f1f7",
   "metadata": {},
   "outputs": [
    {
     "name": "stdout",
     "output_type": "stream",
     "text": [
      "model: 2  dataset 3/4  img: n1128\n"
     ]
    }
   ],
   "source": [
    "for i in range(0,len(model_list)):\n",
    "    # load model to GPU\n",
    "    model = model_list[i].to(device)\n",
    "    for j in range(0, len(dataset_list)):\n",
    "        model_ds_img_names = []\n",
    "        model_ds_img_labels = []\n",
    "        model_ds_preds_0 = []\n",
    "        model_ds_preds_1 = []\n",
    "        # index tracker for printing\n",
    "        for curr_data in dataset_list[j]:\n",
    "            clear_output(wait=True)\n",
    "            inputs, labels = curr_data[0],curr_data[1]\n",
    "            paths = np.array(curr_data[2])\n",
    "            curr_name = paths[0].split(\"/\")[-1].split(\"_\")[0]\n",
    "            print (f\"model: {i}  dataset {j}/{len(dataset_list)}  img: {curr_name}\")\n",
    "            \n",
    "            # load sample to GPU\n",
    "            inputs = inputs.to(device)\n",
    "            labels = labels.to(device)\n",
    "            curr_image = inputs[0]\n",
    "            curr_label = labels[0].cpu().item()\n",
    "            # get predictions\n",
    "            output = model(inputs)\n",
    "            pred_0 = output.cpu()[0][0].item()\n",
    "            pred_1 = output.cpu()[0][1].item()\n",
    "\n",
    "            # log preds\n",
    "            model_ds_img_names.append(curr_name)\n",
    "            model_ds_preds_0.append(pred_0)\n",
    "            model_ds_preds_1.append(pred_1)\n",
    "            model_ds_img_labels.append(labels.cpu().item())\n",
    "        # Write current model dataset predictions\n",
    "        curr_results = pd.DataFrame()\n",
    "        curr_results['img_name'] = model_ds_img_names\n",
    "        curr_results['true_label'] = model_ds_img_labels\n",
    "        curr_results['pred_0'] = model_ds_preds_0\n",
    "        curr_results['pred_1']= model_ds_preds_1\n",
    "        curr_results.to_csv(f\"{output_base_pth}/preds_{backbone}_{training_strategy}_seed{run_seed[i]}_{dataset_names[j]}.csv\", index=False)"
   ]
  },
  {
   "cell_type": "code",
   "execution_count": null,
   "id": "b62705ac-d409-4ac2-a5a6-2817facc601f",
   "metadata": {},
   "outputs": [],
   "source": []
  },
  {
   "cell_type": "markdown",
   "id": "4f7576bb-581f-4537-af19-665350b86601",
   "metadata": {
    "jp-MarkdownHeadingCollapsed": true
   },
   "source": [
    "#### Grey Full Eval"
   ]
  },
  {
   "cell_type": "code",
   "execution_count": 38,
   "id": "cd30dc97-b02d-47de-adde-cd0d859e7f09",
   "metadata": {},
   "outputs": [],
   "source": [
    "backbone = \"grey\"\n",
    "training_strategy = \"full\"\n",
    "model_list = [grey_full_model_1, grey_full_model_2, grey_full_model_3]\n",
    "run_seed = [42,43,44]\n",
    "dataset_list = [cxr_test, pad_test, jsrt_test, openi_test]\n",
    "dataset_names = [\"cxr14\", \"padchest\", \"jsrt\", \"openi\"]"
   ]
  },
  {
   "cell_type": "code",
   "execution_count": 39,
   "id": "32bf05b2-4442-41df-b38d-62db7c8ac55b",
   "metadata": {},
   "outputs": [
    {
     "name": "stdout",
     "output_type": "stream",
     "text": [
      "model: 2  dataset 3/4  img: n1128\n"
     ]
    }
   ],
   "source": [
    "for i in range(0,len(model_list)):\n",
    "    # load model to GPU\n",
    "    model = model_list[i].to(device)\n",
    "    for j in range(0, len(dataset_list)):\n",
    "        model_ds_img_names = []\n",
    "        model_ds_img_labels = []\n",
    "        model_ds_preds_0 = []\n",
    "        model_ds_preds_1 = []\n",
    "        # index tracker for printing\n",
    "        for curr_data in dataset_list[j]:\n",
    "            clear_output(wait=True)\n",
    "            inputs, labels = curr_data[0],curr_data[1]\n",
    "            paths = np.array(curr_data[2])\n",
    "            curr_name = paths[0].split(\"/\")[-1].split(\"_\")[0]\n",
    "            print (f\"model: {i}  dataset {j}/{len(dataset_list)}  img: {curr_name}\")\n",
    "            \n",
    "            # load sample to GPU\n",
    "            inputs = inputs.to(device)\n",
    "            labels = labels.to(device)\n",
    "            curr_image = inputs[0]\n",
    "            curr_label = labels[0].cpu().item()\n",
    "            # get predictions\n",
    "            output = model(inputs)\n",
    "            pred_0 = output.cpu()[0][0].item()\n",
    "            pred_1 = output.cpu()[0][1].item()\n",
    "\n",
    "            # log preds\n",
    "            model_ds_img_names.append(curr_name)\n",
    "            model_ds_preds_0.append(pred_0)\n",
    "            model_ds_preds_1.append(pred_1)\n",
    "            model_ds_img_labels.append(labels.cpu().item())\n",
    "        # Write current model dataset predictions\n",
    "        curr_results = pd.DataFrame()\n",
    "        curr_results['img_name'] = model_ds_img_names\n",
    "        curr_results['true_label'] = model_ds_img_labels\n",
    "        curr_results['pred_0'] = model_ds_preds_0\n",
    "        curr_results['pred_1']= model_ds_preds_1\n",
    "        curr_results.to_csv(f\"{output_base_pth}/preds_{backbone}_{training_strategy}_seed{run_seed[i]}_{dataset_names[j]}.csv\", index=False)"
   ]
  },
  {
   "cell_type": "code",
   "execution_count": null,
   "id": "65fbf9fa-f06d-45e9-aac1-1e71088b878d",
   "metadata": {},
   "outputs": [],
   "source": []
  },
  {
   "cell_type": "markdown",
   "id": "c0025bbd-a2c9-4982-b9e0-14bffd87111d",
   "metadata": {
    "jp-MarkdownHeadingCollapsed": true
   },
   "source": [
    "#### Grey65 Full Eval"
   ]
  },
  {
   "cell_type": "code",
   "execution_count": 40,
   "id": "a1c5c96e-7e3b-4ea5-aa1f-7364b618dde9",
   "metadata": {},
   "outputs": [],
   "source": [
    "backbone = \"grey65\"\n",
    "training_strategy = \"full\"\n",
    "model_list = [grey65_full_model_1, grey65_full_model_2, grey65_full_model_3]\n",
    "run_seed = [42,43,44]\n",
    "dataset_list = [cxr_test, pad_test, jsrt_test, openi_test]\n",
    "dataset_names = [\"cxr14\", \"padchest\", \"jsrt\", \"openi\"]"
   ]
  },
  {
   "cell_type": "code",
   "execution_count": 41,
   "id": "a79dac5d-4c2f-410e-ab22-ef2dcdd6bf2f",
   "metadata": {},
   "outputs": [
    {
     "name": "stdout",
     "output_type": "stream",
     "text": [
      "model: 2  dataset 3/4  img: n1128\n"
     ]
    }
   ],
   "source": [
    "for i in range(0,len(model_list)):\n",
    "    # load model to GPU\n",
    "    model = model_list[i].to(device)\n",
    "    for j in range(0, len(dataset_list)):\n",
    "        model_ds_img_names = []\n",
    "        model_ds_img_labels = []\n",
    "        model_ds_preds_0 = []\n",
    "        model_ds_preds_1 = []\n",
    "        # index tracker for printing\n",
    "        for curr_data in dataset_list[j]:\n",
    "            clear_output(wait=True)\n",
    "            inputs, labels = curr_data[0],curr_data[1]\n",
    "            paths = np.array(curr_data[2])\n",
    "            curr_name = paths[0].split(\"/\")[-1].split(\"_\")[0]\n",
    "            print (f\"model: {i}  dataset {j}/{len(dataset_list)}  img: {curr_name}\")\n",
    "            \n",
    "            # load sample to GPU\n",
    "            inputs = inputs.to(device)\n",
    "            labels = labels.to(device)\n",
    "            curr_image = inputs[0]\n",
    "            curr_label = labels[0].cpu().item()\n",
    "            # get predictions\n",
    "            output = model(inputs)\n",
    "            pred_0 = output.cpu()[0][0].item()\n",
    "            pred_1 = output.cpu()[0][1].item()\n",
    "\n",
    "            # log preds\n",
    "            model_ds_img_names.append(curr_name)\n",
    "            model_ds_preds_0.append(pred_0)\n",
    "            model_ds_preds_1.append(pred_1)\n",
    "            model_ds_img_labels.append(labels.cpu().item())\n",
    "        # Write current model dataset predictions\n",
    "        curr_results = pd.DataFrame()\n",
    "        curr_results['img_name'] = model_ds_img_names\n",
    "        curr_results['true_label'] = model_ds_img_labels\n",
    "        curr_results['pred_0'] = model_ds_preds_0\n",
    "        curr_results['pred_1']= model_ds_preds_1\n",
    "        curr_results.to_csv(f\"{output_base_pth}/preds_{backbone}_{training_strategy}_seed{run_seed[i]}_{dataset_names[j]}.csv\", index=False)"
   ]
  },
  {
   "cell_type": "markdown",
   "id": "2ad1370d-ad7e-4dfb-8922-e1319c1056d5",
   "metadata": {
    "jp-MarkdownHeadingCollapsed": true
   },
   "source": [
    "#### Single Full Eval"
   ]
  },
  {
   "cell_type": "code",
   "execution_count": 42,
   "id": "ec96f3c5-7d0f-449d-8c5d-e6520880cb9c",
   "metadata": {},
   "outputs": [],
   "source": [
    "backbone = \"single\"\n",
    "training_strategy = \"full\"\n",
    "model_list = [single_full_model_1, single_full_model_2, single_full_model_3]\n",
    "run_seed = [42,43,44]\n",
    "dataset_list = [single_cxr_test, single_pad_test, single_jsrt_test, single_openi_test]\n",
    "dataset_names = [\"cxr14\", \"padchest\", \"jsrt\", \"openi\"]"
   ]
  },
  {
   "cell_type": "code",
   "execution_count": 43,
   "id": "bd312f59-c026-4eb3-ad86-43b90d00b62a",
   "metadata": {
    "scrolled": true
   },
   "outputs": [
    {
     "name": "stdout",
     "output_type": "stream",
     "text": [
      "model: 2  dataset 3/4  img: n1128\n"
     ]
    }
   ],
   "source": [
    "for i in range(0,len(model_list)):\n",
    "    # load model to GPU\n",
    "    model = model_list[i].to(device)\n",
    "    for j in range(0, len(dataset_list)):\n",
    "        model_ds_img_names = []\n",
    "        model_ds_img_labels = []\n",
    "        model_ds_preds_0 = []\n",
    "        model_ds_preds_1 = []\n",
    "        # index tracker for printing\n",
    "        for curr_data in dataset_list[j]:\n",
    "            clear_output(wait=True)\n",
    "            inputs, labels = curr_data[0],curr_data[1]\n",
    "            paths = np.array(curr_data[2])\n",
    "            curr_name = paths[0].split(\"/\")[-1].split(\"_\")[0]\n",
    "            print (f\"model: {i}  dataset {j}/{len(dataset_list)}  img: {curr_name}\")\n",
    "            \n",
    "            # load sample to GPU\n",
    "            inputs = inputs.to(device)\n",
    "            labels = labels.to(device)\n",
    "            curr_image = inputs[0]\n",
    "            curr_label = labels[0].cpu().item()\n",
    "            # get predictions\n",
    "            output = model(inputs)\n",
    "            pred_0 = output.cpu()[0][0].item()\n",
    "            pred_1 = output.cpu()[0][1].item()\n",
    "\n",
    "            # log preds\n",
    "            model_ds_img_names.append(curr_name)\n",
    "            model_ds_preds_0.append(pred_0)\n",
    "            model_ds_preds_1.append(pred_1)\n",
    "            model_ds_img_labels.append(labels.cpu().item())\n",
    "        # Write current model dataset predictions\n",
    "        curr_results = pd.DataFrame()\n",
    "        curr_results['img_name'] = model_ds_img_names\n",
    "        curr_results['true_label'] = model_ds_img_labels\n",
    "        curr_results['pred_0'] = model_ds_preds_0\n",
    "        curr_results['pred_1']= model_ds_preds_1\n",
    "        curr_results.to_csv(f\"{output_base_pth}/preds_{backbone}_{training_strategy}_seed{run_seed[i]}_{dataset_names[j]}.csv\", index=False)"
   ]
  },
  {
   "cell_type": "markdown",
   "id": "7f527f02-92e1-4493-b766-7171a9607ab7",
   "metadata": {
    "jp-MarkdownHeadingCollapsed": true
   },
   "source": [
    "#### Single65 Full Eval"
   ]
  },
  {
   "cell_type": "code",
   "execution_count": 56,
   "id": "b3adc004-f578-4ccd-871a-e1175d9e9d23",
   "metadata": {},
   "outputs": [],
   "source": [
    "backbone = \"single65\"\n",
    "training_strategy = \"full\"\n",
    "model_list = [single65_full_model_1, single65_full_model_2, single65_full_model_3]\n",
    "run_seed = [42,43,44]\n",
    "dataset_list = [single_cxr_test, single_pad_test, single_jsrt_test, single_openi_test]\n",
    "dataset_names = [\"cxr14\", \"padchest\", \"jsrt\", \"openi\"]"
   ]
  },
  {
   "cell_type": "code",
   "execution_count": 57,
   "id": "d0cd2992-6a5c-4ef5-9855-6d754317c14f",
   "metadata": {
    "scrolled": true
   },
   "outputs": [
    {
     "name": "stdout",
     "output_type": "stream",
     "text": [
      "model: 2  dataset 3/4  img: n1128\n"
     ]
    }
   ],
   "source": [
    "for i in range(0,len(model_list)):\n",
    "    # load model to GPU\n",
    "    model = model_list[i].to(device)\n",
    "    for j in range(0, len(dataset_list)):\n",
    "        model_ds_img_names = []\n",
    "        model_ds_img_labels = []\n",
    "        model_ds_preds_0 = []\n",
    "        model_ds_preds_1 = []\n",
    "        # index tracker for printing\n",
    "        for curr_data in dataset_list[j]:\n",
    "            clear_output(wait=True)\n",
    "            inputs, labels = curr_data[0],curr_data[1]\n",
    "            paths = np.array(curr_data[2])\n",
    "            curr_name = paths[0].split(\"/\")[-1].split(\"_\")[0]\n",
    "            print (f\"model: {i}  dataset {j}/{len(dataset_list)}  img: {curr_name}\")\n",
    "            \n",
    "            # load sample to GPU\n",
    "            inputs = inputs.to(device)\n",
    "            labels = labels.to(device)\n",
    "            curr_image = inputs[0]\n",
    "            curr_label = labels[0].cpu().item()\n",
    "            # get predictions\n",
    "            output = model(inputs)\n",
    "            pred_0 = output.cpu()[0][0].item()\n",
    "            pred_1 = output.cpu()[0][1].item()\n",
    "\n",
    "            # log preds\n",
    "            model_ds_img_names.append(curr_name)\n",
    "            model_ds_preds_0.append(pred_0)\n",
    "            model_ds_preds_1.append(pred_1)\n",
    "            model_ds_img_labels.append(labels.cpu().item())\n",
    "        # Write current model dataset predictions\n",
    "        curr_results = pd.DataFrame()\n",
    "        curr_results['img_name'] = model_ds_img_names\n",
    "        curr_results['true_label'] = model_ds_img_labels\n",
    "        curr_results['pred_0'] = model_ds_preds_0\n",
    "        curr_results['pred_1']= model_ds_preds_1\n",
    "        curr_results.to_csv(f\"{output_base_pth}/preds_{backbone}_{training_strategy}_seed{run_seed[i]}_{dataset_names[j]}.csv\", index=False)"
   ]
  },
  {
   "cell_type": "markdown",
   "id": "1fa5a63f-6a3f-43e1-b7df-adc06887b598",
   "metadata": {},
   "source": [
    "### First Layer Network"
   ]
  },
  {
   "cell_type": "markdown",
   "id": "f761d406-9f06-4c8c-befb-666b6c9cab3c",
   "metadata": {
    "jp-MarkdownHeadingCollapsed": true
   },
   "source": [
    "#### Base First Eval"
   ]
  },
  {
   "cell_type": "code",
   "execution_count": 44,
   "id": "ac82afe7-5078-42b1-8193-1fc74c466550",
   "metadata": {},
   "outputs": [],
   "source": [
    "backbone = \"base\"\n",
    "training_strategy = \"first\"\n",
    "model_list = [base_first_model_1, base_first_model_2, base_first_model_3]\n",
    "run_seed = [42,43,44]\n",
    "dataset_list = [cxr_test, pad_test, jsrt_test, openi_test]\n",
    "dataset_names = [\"cxr14\", \"padchest\", \"jsrt\", \"openi\"]"
   ]
  },
  {
   "cell_type": "code",
   "execution_count": 45,
   "id": "50767251-dd43-4763-80ee-375dc70be388",
   "metadata": {},
   "outputs": [
    {
     "name": "stdout",
     "output_type": "stream",
     "text": [
      "model: 2  dataset 3/4  img: n1128\n"
     ]
    }
   ],
   "source": [
    "for i in range(0,len(model_list)):\n",
    "    # load model to GPU\n",
    "    model = model_list[i].to(device)\n",
    "    for j in range(0, len(dataset_list)):\n",
    "        model_ds_img_names = []\n",
    "        model_ds_img_labels = []\n",
    "        model_ds_preds_0 = []\n",
    "        model_ds_preds_1 = []\n",
    "        # index tracker for printing\n",
    "        for curr_data in dataset_list[j]:\n",
    "            clear_output(wait=True)\n",
    "            inputs, labels = curr_data[0],curr_data[1]\n",
    "            paths = np.array(curr_data[2])\n",
    "            curr_name = paths[0].split(\"/\")[-1].split(\"_\")[0]\n",
    "            print (f\"model: {i}  dataset {j}/{len(dataset_list)}  img: {curr_name}\")\n",
    "            \n",
    "            # load sample to GPU\n",
    "            inputs = inputs.to(device)\n",
    "            labels = labels.to(device)\n",
    "            curr_image = inputs[0]\n",
    "            curr_label = labels[0].cpu().item()\n",
    "            # get predictions\n",
    "            output = model(inputs)\n",
    "            pred_0 = output.cpu()[0][0].item()\n",
    "            pred_1 = output.cpu()[0][1].item()\n",
    "\n",
    "            # log preds\n",
    "            model_ds_img_names.append(curr_name)\n",
    "            model_ds_preds_0.append(pred_0)\n",
    "            model_ds_preds_1.append(pred_1)\n",
    "            model_ds_img_labels.append(labels.cpu().item())\n",
    "        # Write current model dataset predictions\n",
    "        curr_results = pd.DataFrame()\n",
    "        curr_results['img_name'] = model_ds_img_names\n",
    "        curr_results['true_label'] = model_ds_img_labels\n",
    "        curr_results['pred_0'] = model_ds_preds_0\n",
    "        curr_results['pred_1']= model_ds_preds_1\n",
    "        curr_results.to_csv(f\"{output_base_pth}/preds_{backbone}_{training_strategy}_seed{run_seed[i]}_{dataset_names[j]}.csv\", index=False)"
   ]
  },
  {
   "cell_type": "markdown",
   "id": "838f2582-b771-48af-877f-4e752d813cb7",
   "metadata": {
    "jp-MarkdownHeadingCollapsed": true
   },
   "source": [
    "#### Base65 First Eval"
   ]
  },
  {
   "cell_type": "code",
   "execution_count": 46,
   "id": "9a8c0550-34e5-40a4-8d74-704f170deb5c",
   "metadata": {},
   "outputs": [],
   "source": [
    "backbone = \"base65\"\n",
    "training_strategy = \"first\"\n",
    "model_list = [base65_first_model_1, base65_first_model_2, base65_first_model_3]\n",
    "run_seed = [42,43,44]\n",
    "dataset_list = [cxr_test, pad_test, jsrt_test, openi_test]\n",
    "dataset_names = [\"cxr14\", \"padchest\", \"jsrt\", \"openi\"]"
   ]
  },
  {
   "cell_type": "code",
   "execution_count": 47,
   "id": "3c416023-b3fc-47e3-a7b6-8f4666c505d1",
   "metadata": {},
   "outputs": [
    {
     "name": "stdout",
     "output_type": "stream",
     "text": [
      "model: 2  dataset 3/4  img: n1128\n"
     ]
    }
   ],
   "source": [
    "for i in range(0,len(model_list)):\n",
    "    # load model to GPU\n",
    "    model = model_list[i].to(device)\n",
    "    for j in range(0, len(dataset_list)):\n",
    "        model_ds_img_names = []\n",
    "        model_ds_img_labels = []\n",
    "        model_ds_preds_0 = []\n",
    "        model_ds_preds_1 = []\n",
    "        # index tracker for printing\n",
    "        for curr_data in dataset_list[j]:\n",
    "            clear_output(wait=True)\n",
    "            inputs, labels = curr_data[0],curr_data[1]\n",
    "            paths = np.array(curr_data[2])\n",
    "            curr_name = paths[0].split(\"/\")[-1].split(\"_\")[0]\n",
    "            print (f\"model: {i}  dataset {j}/{len(dataset_list)}  img: {curr_name}\")\n",
    "            \n",
    "            # load sample to GPU\n",
    "            inputs = inputs.to(device)\n",
    "            labels = labels.to(device)\n",
    "            curr_image = inputs[0]\n",
    "            curr_label = labels[0].cpu().item()\n",
    "            # get predictions\n",
    "            output = model(inputs)\n",
    "            pred_0 = output.cpu()[0][0].item()\n",
    "            pred_1 = output.cpu()[0][1].item()\n",
    "\n",
    "            # log preds\n",
    "            model_ds_img_names.append(curr_name)\n",
    "            model_ds_preds_0.append(pred_0)\n",
    "            model_ds_preds_1.append(pred_1)\n",
    "            model_ds_img_labels.append(labels.cpu().item())\n",
    "        # Write current model dataset predictions\n",
    "        curr_results = pd.DataFrame()\n",
    "        curr_results['img_name'] = model_ds_img_names\n",
    "        curr_results['true_label'] = model_ds_img_labels\n",
    "        curr_results['pred_0'] = model_ds_preds_0\n",
    "        curr_results['pred_1']= model_ds_preds_1\n",
    "        curr_results.to_csv(f\"{output_base_pth}/preds_{backbone}_{training_strategy}_seed{run_seed[i]}_{dataset_names[j]}.csv\", index=False)"
   ]
  },
  {
   "cell_type": "markdown",
   "id": "00bc3e8f-47b3-46eb-b948-ab339a88ef03",
   "metadata": {
    "jp-MarkdownHeadingCollapsed": true
   },
   "source": [
    "#### Grey First Eval"
   ]
  },
  {
   "cell_type": "code",
   "execution_count": 48,
   "id": "c25199a5-55fd-42c3-bebb-81df69405aa1",
   "metadata": {},
   "outputs": [],
   "source": [
    "backbone = \"grey\"\n",
    "training_strategy = \"first\"\n",
    "model_list = [grey_first_model_1, grey_first_model_2, grey_first_model_3]\n",
    "run_seed = [42,43,44]\n",
    "dataset_list = [cxr_test, pad_test, jsrt_test, openi_test]\n",
    "dataset_names = [\"cxr14\", \"padchest\", \"jsrt\", \"openi\"]"
   ]
  },
  {
   "cell_type": "code",
   "execution_count": 49,
   "id": "3edfeb64-86d6-4dda-a15b-6c1385848669",
   "metadata": {},
   "outputs": [
    {
     "name": "stdout",
     "output_type": "stream",
     "text": [
      "model: 2  dataset 3/4  img: n1128\n"
     ]
    }
   ],
   "source": [
    "for i in range(0,len(model_list)):\n",
    "    # load model to GPU\n",
    "    model = model_list[i].to(device)\n",
    "    for j in range(0, len(dataset_list)):\n",
    "        model_ds_img_names = []\n",
    "        model_ds_img_labels = []\n",
    "        model_ds_preds_0 = []\n",
    "        model_ds_preds_1 = []\n",
    "        # index tracker for printing\n",
    "        for curr_data in dataset_list[j]:\n",
    "            clear_output(wait=True)\n",
    "            inputs, labels = curr_data[0],curr_data[1]\n",
    "            paths = np.array(curr_data[2])\n",
    "            curr_name = paths[0].split(\"/\")[-1].split(\"_\")[0]\n",
    "            print (f\"model: {i}  dataset {j}/{len(dataset_list)}  img: {curr_name}\")\n",
    "            \n",
    "            # load sample to GPU\n",
    "            inputs = inputs.to(device)\n",
    "            labels = labels.to(device)\n",
    "            curr_image = inputs[0]\n",
    "            curr_label = labels[0].cpu().item()\n",
    "            # get predictions\n",
    "            output = model(inputs)\n",
    "            pred_0 = output.cpu()[0][0].item()\n",
    "            pred_1 = output.cpu()[0][1].item()\n",
    "\n",
    "            # log preds\n",
    "            model_ds_img_names.append(curr_name)\n",
    "            model_ds_preds_0.append(pred_0)\n",
    "            model_ds_preds_1.append(pred_1)\n",
    "            model_ds_img_labels.append(labels.cpu().item())\n",
    "        # Write current model dataset predictions\n",
    "        curr_results = pd.DataFrame()\n",
    "        curr_results['img_name'] = model_ds_img_names\n",
    "        curr_results['true_label'] = model_ds_img_labels\n",
    "        curr_results['pred_0'] = model_ds_preds_0\n",
    "        curr_results['pred_1']= model_ds_preds_1\n",
    "        curr_results.to_csv(f\"{output_base_pth}/preds_{backbone}_{training_strategy}_seed{run_seed[i]}_{dataset_names[j]}.csv\", index=False)"
   ]
  },
  {
   "cell_type": "markdown",
   "id": "55323b2e-bc0f-48d8-b796-4f8c442ef365",
   "metadata": {
    "jp-MarkdownHeadingCollapsed": true
   },
   "source": [
    "#### Grey65 First Eval"
   ]
  },
  {
   "cell_type": "code",
   "execution_count": 50,
   "id": "caae573f-0bb4-4a2b-9b0d-fdffbefff456",
   "metadata": {},
   "outputs": [],
   "source": [
    "backbone = \"grey65\"\n",
    "training_strategy = \"first\"\n",
    "model_list = [grey65_first_model_1, grey65_first_model_2, grey65_first_model_3]\n",
    "run_seed = [42,43,44]\n",
    "dataset_list = [cxr_test, pad_test, jsrt_test, openi_test]\n",
    "dataset_names = [\"cxr14\", \"padchest\", \"jsrt\", \"openi\"]"
   ]
  },
  {
   "cell_type": "code",
   "execution_count": 51,
   "id": "5cdbe517-700b-4ab5-80d0-841caac13e6e",
   "metadata": {},
   "outputs": [
    {
     "name": "stdout",
     "output_type": "stream",
     "text": [
      "model: 2  dataset 3/4  img: n1128\n"
     ]
    }
   ],
   "source": [
    "for i in range(0,len(model_list)):\n",
    "    # load model to GPU\n",
    "    model = model_list[i].to(device)\n",
    "    for j in range(0, len(dataset_list)):\n",
    "        model_ds_img_names = []\n",
    "        model_ds_img_labels = []\n",
    "        model_ds_preds_0 = []\n",
    "        model_ds_preds_1 = []\n",
    "        # index tracker for printing\n",
    "        for curr_data in dataset_list[j]:\n",
    "            clear_output(wait=True)\n",
    "            inputs, labels = curr_data[0],curr_data[1]\n",
    "            paths = np.array(curr_data[2])\n",
    "            curr_name = paths[0].split(\"/\")[-1].split(\"_\")[0]\n",
    "            print (f\"model: {i}  dataset {j}/{len(dataset_list)}  img: {curr_name}\")\n",
    "            \n",
    "            # load sample to GPU\n",
    "            inputs = inputs.to(device)\n",
    "            labels = labels.to(device)\n",
    "            curr_image = inputs[0]\n",
    "            curr_label = labels[0].cpu().item()\n",
    "            # get predictions\n",
    "            output = model(inputs)\n",
    "            pred_0 = output.cpu()[0][0].item()\n",
    "            pred_1 = output.cpu()[0][1].item()\n",
    "\n",
    "            # log preds\n",
    "            model_ds_img_names.append(curr_name)\n",
    "            model_ds_preds_0.append(pred_0)\n",
    "            model_ds_preds_1.append(pred_1)\n",
    "            model_ds_img_labels.append(labels.cpu().item())\n",
    "        # Write current model dataset predictions\n",
    "        curr_results = pd.DataFrame()\n",
    "        curr_results['img_name'] = model_ds_img_names\n",
    "        curr_results['true_label'] = model_ds_img_labels\n",
    "        curr_results['pred_0'] = model_ds_preds_0\n",
    "        curr_results['pred_1']= model_ds_preds_1\n",
    "        curr_results.to_csv(f\"{output_base_pth}/preds_{backbone}_{training_strategy}_seed{run_seed[i]}_{dataset_names[j]}.csv\", index=False)"
   ]
  },
  {
   "cell_type": "markdown",
   "id": "3ec8ea63-5dd5-4fd8-8f20-70e88d00a51a",
   "metadata": {
    "jp-MarkdownHeadingCollapsed": true
   },
   "source": [
    "#### Single First Eval"
   ]
  },
  {
   "cell_type": "code",
   "execution_count": 52,
   "id": "5f7d27df-0673-4bb1-80a9-e07b80120e15",
   "metadata": {},
   "outputs": [],
   "source": [
    "backbone = \"single\"\n",
    "training_strategy = \"first\"\n",
    "model_list = [single_first_model_1, single_first_model_2, single_first_model_3]\n",
    "run_seed = [42,43,44]\n",
    "dataset_list = [single_cxr_test, single_pad_test, single_jsrt_test, single_openi_test]\n",
    "dataset_names = [\"cxr14\", \"padchest\", \"jsrt\", \"openi\"]"
   ]
  },
  {
   "cell_type": "code",
   "execution_count": 53,
   "id": "841f5568-ba08-446d-a30d-801c0839d9fc",
   "metadata": {},
   "outputs": [
    {
     "name": "stdout",
     "output_type": "stream",
     "text": [
      "model: 2  dataset 3/4  img: n1128\n"
     ]
    }
   ],
   "source": [
    "for i in range(0,len(model_list)):\n",
    "    # load model to GPU\n",
    "    model = model_list[i].to(device)\n",
    "    for j in range(0, len(dataset_list)):\n",
    "        model_ds_img_names = []\n",
    "        model_ds_img_labels = []\n",
    "        model_ds_preds_0 = []\n",
    "        model_ds_preds_1 = []\n",
    "        # index tracker for printing\n",
    "        for curr_data in dataset_list[j]:\n",
    "            clear_output(wait=True)\n",
    "            inputs, labels = curr_data[0],curr_data[1]\n",
    "            paths = np.array(curr_data[2])\n",
    "            curr_name = paths[0].split(\"/\")[-1].split(\"_\")[0]\n",
    "            print (f\"model: {i}  dataset {j}/{len(dataset_list)}  img: {curr_name}\")\n",
    "            \n",
    "            # load sample to GPU\n",
    "            inputs = inputs.to(device)\n",
    "            labels = labels.to(device)\n",
    "            curr_image = inputs[0]\n",
    "            curr_label = labels[0].cpu().item()\n",
    "            # get predictions\n",
    "            output = model(inputs)\n",
    "            pred_0 = output.cpu()[0][0].item()\n",
    "            pred_1 = output.cpu()[0][1].item()\n",
    "\n",
    "            # log preds\n",
    "            model_ds_img_names.append(curr_name)\n",
    "            model_ds_preds_0.append(pred_0)\n",
    "            model_ds_preds_1.append(pred_1)\n",
    "            model_ds_img_labels.append(labels.cpu().item())\n",
    "        # Write current model dataset predictions\n",
    "        curr_results = pd.DataFrame()\n",
    "        curr_results['img_name'] = model_ds_img_names\n",
    "        curr_results['true_label'] = model_ds_img_labels\n",
    "        curr_results['pred_0'] = model_ds_preds_0\n",
    "        curr_results['pred_1']= model_ds_preds_1\n",
    "        curr_results.to_csv(f\"{output_base_pth}/preds_{backbone}_{training_strategy}_seed{run_seed[i]}_{dataset_names[j]}.csv\", index=False)"
   ]
  },
  {
   "cell_type": "markdown",
   "id": "69663cb3-3c12-4592-b9e1-8fda5ceebde4",
   "metadata": {},
   "source": [
    "#### Single65 First Eval"
   ]
  },
  {
   "cell_type": "code",
   "execution_count": 54,
   "id": "547f1c74-3321-4365-996e-d4e96ba48362",
   "metadata": {},
   "outputs": [],
   "source": [
    "backbone = \"single65\"\n",
    "training_strategy = \"first\"\n",
    "model_list = [single65_first_model_1, single65_first_model_2, single65_first_model_3]\n",
    "run_seed = [42,43,44]\n",
    "dataset_list = [single_cxr_test, single_pad_test, single_jsrt_test, single_openi_test]\n",
    "dataset_names = [\"cxr14\", \"padchest\", \"jsrt\", \"openi\"]"
   ]
  },
  {
   "cell_type": "code",
   "execution_count": 55,
   "id": "c37d28e1-1368-49fc-92c9-743cc8ecaba4",
   "metadata": {},
   "outputs": [
    {
     "name": "stdout",
     "output_type": "stream",
     "text": [
      "model: 2  dataset 3/4  img: n1128\n"
     ]
    }
   ],
   "source": [
    "for i in range(0,len(model_list)):\n",
    "    # load model to GPU\n",
    "    model = model_list[i].to(device)\n",
    "    for j in range(0, len(dataset_list)):\n",
    "        model_ds_img_names = []\n",
    "        model_ds_img_labels = []\n",
    "        model_ds_preds_0 = []\n",
    "        model_ds_preds_1 = []\n",
    "        # index tracker for printing\n",
    "        for curr_data in dataset_list[j]:\n",
    "            clear_output(wait=True)\n",
    "            inputs, labels = curr_data[0],curr_data[1]\n",
    "            paths = np.array(curr_data[2])\n",
    "            curr_name = paths[0].split(\"/\")[-1].split(\"_\")[0]\n",
    "            print (f\"model: {i}  dataset {j}/{len(dataset_list)}  img: {curr_name}\")\n",
    "            \n",
    "            # load sample to GPU\n",
    "            inputs = inputs.to(device)\n",
    "            labels = labels.to(device)\n",
    "            curr_image = inputs[0]\n",
    "            curr_label = labels[0].cpu().item()\n",
    "            # get predictions\n",
    "            output = model(inputs)\n",
    "            pred_0 = output.cpu()[0][0].item()\n",
    "            pred_1 = output.cpu()[0][1].item()\n",
    "\n",
    "            # log preds\n",
    "            model_ds_img_names.append(curr_name)\n",
    "            model_ds_preds_0.append(pred_0)\n",
    "            model_ds_preds_1.append(pred_1)\n",
    "            model_ds_img_labels.append(labels.cpu().item())\n",
    "        # Write current model dataset predictions\n",
    "        curr_results = pd.DataFrame()\n",
    "        curr_results['img_name'] = model_ds_img_names\n",
    "        curr_results['true_label'] = model_ds_img_labels\n",
    "        curr_results['pred_0'] = model_ds_preds_0\n",
    "        curr_results['pred_1']= model_ds_preds_1\n",
    "        curr_results.to_csv(f\"{output_base_pth}/preds_{backbone}_{training_strategy}_seed{run_seed[i]}_{dataset_names[j]}.csv\", index=False)"
   ]
  },
  {
   "cell_type": "code",
   "execution_count": null,
   "id": "9b169818-b7bc-4575-ab27-35298d940ae4",
   "metadata": {},
   "outputs": [],
   "source": []
  },
  {
   "cell_type": "markdown",
   "id": "b3696b84-44af-443c-a87c-956c58692569",
   "metadata": {},
   "source": [
    "### Half Network"
   ]
  },
  {
   "cell_type": "markdown",
   "id": "d25e8c15-4494-47f3-b21f-4a1fcd7d9ebe",
   "metadata": {},
   "source": [
    "#### Base Half Eval"
   ]
  },
  {
   "cell_type": "code",
   "execution_count": 58,
   "id": "a94b042b-73f3-4f44-927f-69af3de6fac3",
   "metadata": {},
   "outputs": [],
   "source": [
    "backbone = \"base\"\n",
    "training_strategy = \"half\"\n",
    "model_list = [base_half_model_1, base_half_model_2, base_half_model_3]\n",
    "run_seed = [42,43,44]\n",
    "dataset_list = [cxr_test, pad_test, jsrt_test, openi_test]\n",
    "dataset_names = [\"cxr14\", \"padchest\", \"jsrt\", \"openi\"]"
   ]
  },
  {
   "cell_type": "code",
   "execution_count": 59,
   "id": "7361e3d2-0cff-47fb-8da1-98eab127c3dc",
   "metadata": {},
   "outputs": [
    {
     "name": "stdout",
     "output_type": "stream",
     "text": [
      "model: 2  dataset 3/4  img: n1128\n"
     ]
    }
   ],
   "source": [
    "for i in range(0,len(model_list)):\n",
    "    # load model to GPU\n",
    "    model = model_list[i].to(device)\n",
    "    for j in range(0, len(dataset_list)):\n",
    "        model_ds_img_names = []\n",
    "        model_ds_img_labels = []\n",
    "        model_ds_preds_0 = []\n",
    "        model_ds_preds_1 = []\n",
    "        # index tracker for printing\n",
    "        for curr_data in dataset_list[j]:\n",
    "            clear_output(wait=True)\n",
    "            inputs, labels = curr_data[0],curr_data[1]\n",
    "            paths = np.array(curr_data[2])\n",
    "            curr_name = paths[0].split(\"/\")[-1].split(\"_\")[0]\n",
    "            print (f\"model: {i}  dataset {j}/{len(dataset_list)}  img: {curr_name}\")\n",
    "            \n",
    "            # load sample to GPU\n",
    "            inputs = inputs.to(device)\n",
    "            labels = labels.to(device)\n",
    "            curr_image = inputs[0]\n",
    "            curr_label = labels[0].cpu().item()\n",
    "            # get predictions\n",
    "            output = model(inputs)\n",
    "            pred_0 = output.cpu()[0][0].item()\n",
    "            pred_1 = output.cpu()[0][1].item()\n",
    "\n",
    "            # log preds\n",
    "            model_ds_img_names.append(curr_name)\n",
    "            model_ds_preds_0.append(pred_0)\n",
    "            model_ds_preds_1.append(pred_1)\n",
    "            model_ds_img_labels.append(labels.cpu().item())\n",
    "        # Write current model dataset predictions\n",
    "        curr_results = pd.DataFrame()\n",
    "        curr_results['img_name'] = model_ds_img_names\n",
    "        curr_results['true_label'] = model_ds_img_labels\n",
    "        curr_results['pred_0'] = model_ds_preds_0\n",
    "        curr_results['pred_1']= model_ds_preds_1\n",
    "        curr_results.to_csv(f\"{output_base_pth}/preds_{backbone}_{training_strategy}_seed{run_seed[i]}_{dataset_names[j]}.csv\", index=False)"
   ]
  },
  {
   "cell_type": "markdown",
   "id": "39eeb701-40f9-4003-87c4-b4cc2b5b4202",
   "metadata": {},
   "source": [
    "#### Base65 Half Eval"
   ]
  },
  {
   "cell_type": "code",
   "execution_count": 60,
   "id": "2df8fd8e-d518-4997-a363-4508fc47744b",
   "metadata": {},
   "outputs": [],
   "source": [
    "backbone = \"base65\"\n",
    "training_strategy = \"half\"\n",
    "model_list = [base65_half_model_1, base65_half_model_2, base65_half_model_3]\n",
    "run_seed = [42,43,44]\n",
    "dataset_list = [cxr_test, pad_test, jsrt_test, openi_test]\n",
    "dataset_names = [\"cxr14\", \"padchest\", \"jsrt\", \"openi\"]"
   ]
  },
  {
   "cell_type": "code",
   "execution_count": null,
   "id": "18d9f4d4-f6c9-42c3-98ee-bd3bdd56b081",
   "metadata": {},
   "outputs": [
    {
     "name": "stdout",
     "output_type": "stream",
     "text": [
      "model: 2  dataset 3/4  img: n0252\n"
     ]
    }
   ],
   "source": [
    "for i in range(0,len(model_list)):\n",
    "    # load model to GPU\n",
    "    model = model_list[i].to(device)\n",
    "    for j in range(0, len(dataset_list)):\n",
    "        model_ds_img_names = []\n",
    "        model_ds_img_labels = []\n",
    "        model_ds_preds_0 = []\n",
    "        model_ds_preds_1 = []\n",
    "        # index tracker for printing\n",
    "        for curr_data in dataset_list[j]:\n",
    "            clear_output(wait=True)\n",
    "            inputs, labels = curr_data[0],curr_data[1]\n",
    "            paths = np.array(curr_data[2])\n",
    "            curr_name = paths[0].split(\"/\")[-1].split(\"_\")[0]\n",
    "            print (f\"model: {i}  dataset {j}/{len(dataset_list)}  img: {curr_name}\")\n",
    "            \n",
    "            # load sample to GPU\n",
    "            inputs = inputs.to(device)\n",
    "            labels = labels.to(device)\n",
    "            curr_image = inputs[0]\n",
    "            curr_label = labels[0].cpu().item()\n",
    "            # get predictions\n",
    "            output = model(inputs)\n",
    "            pred_0 = output.cpu()[0][0].item()\n",
    "            pred_1 = output.cpu()[0][1].item()\n",
    "\n",
    "            # log preds\n",
    "            model_ds_img_names.append(curr_name)\n",
    "            model_ds_preds_0.append(pred_0)\n",
    "            model_ds_preds_1.append(pred_1)\n",
    "            model_ds_img_labels.append(labels.cpu().item())\n",
    "        # Write current model dataset predictions\n",
    "        curr_results = pd.DataFrame()\n",
    "        curr_results['img_name'] = model_ds_img_names\n",
    "        curr_results['true_label'] = model_ds_img_labels\n",
    "        curr_results['pred_0'] = model_ds_preds_0\n",
    "        curr_results['pred_1']= model_ds_preds_1\n",
    "        curr_results.to_csv(f\"{output_base_pth}/preds_{backbone}_{training_strategy}_seed{run_seed[i]}_{dataset_names[j]}.csv\", index=False)"
   ]
  },
  {
   "cell_type": "markdown",
   "id": "7196f9ad-7f39-43e2-822a-2de479a5552d",
   "metadata": {},
   "source": [
    "#### Grey First Eval"
   ]
  },
  {
   "cell_type": "code",
   "execution_count": null,
   "id": "69a2768e-bbe7-4844-aeb9-04880fc6ee80",
   "metadata": {},
   "outputs": [],
   "source": [
    "backbone = \"grey\"\n",
    "training_strategy = \"half\"\n",
    "model_list = [grey_half_model_1, grey_half_model_2, grey_half_model_3]\n",
    "run_seed = [42,43,44]\n",
    "dataset_list = [cxr_test, pad_test, jsrt_test, openi_test]\n",
    "dataset_names = [\"cxr14\", \"padchest\", \"jsrt\", \"openi\"]"
   ]
  },
  {
   "cell_type": "code",
   "execution_count": null,
   "id": "98d9c4fd-8b33-4434-9430-a24275a3c0c9",
   "metadata": {},
   "outputs": [],
   "source": [
    "for i in range(0,len(model_list)):\n",
    "    # load model to GPU\n",
    "    model = model_list[i].to(device)\n",
    "    for j in range(0, len(dataset_list)):\n",
    "        model_ds_img_names = []\n",
    "        model_ds_img_labels = []\n",
    "        model_ds_preds_0 = []\n",
    "        model_ds_preds_1 = []\n",
    "        # index tracker for printing\n",
    "        for curr_data in dataset_list[j]:\n",
    "            clear_output(wait=True)\n",
    "            inputs, labels = curr_data[0],curr_data[1]\n",
    "            paths = np.array(curr_data[2])\n",
    "            curr_name = paths[0].split(\"/\")[-1].split(\"_\")[0]\n",
    "            print (f\"model: {i}  dataset {j}/{len(dataset_list)}  img: {curr_name}\")\n",
    "            \n",
    "            # load sample to GPU\n",
    "            inputs = inputs.to(device)\n",
    "            labels = labels.to(device)\n",
    "            curr_image = inputs[0]\n",
    "            curr_label = labels[0].cpu().item()\n",
    "            # get predictions\n",
    "            output = model(inputs)\n",
    "            pred_0 = output.cpu()[0][0].item()\n",
    "            pred_1 = output.cpu()[0][1].item()\n",
    "\n",
    "            # log preds\n",
    "            model_ds_img_names.append(curr_name)\n",
    "            model_ds_preds_0.append(pred_0)\n",
    "            model_ds_preds_1.append(pred_1)\n",
    "            model_ds_img_labels.append(labels.cpu().item())\n",
    "        # Write current model dataset predictions\n",
    "        curr_results = pd.DataFrame()\n",
    "        curr_results['img_name'] = model_ds_img_names\n",
    "        curr_results['true_label'] = model_ds_img_labels\n",
    "        curr_results['pred_0'] = model_ds_preds_0\n",
    "        curr_results['pred_1']= model_ds_preds_1\n",
    "        curr_results.to_csv(f\"{output_base_pth}/preds_{backbone}_{training_strategy}_seed{run_seed[i]}_{dataset_names[j]}.csv\", index=False)"
   ]
  },
  {
   "cell_type": "markdown",
   "id": "4f059254-ceff-4a03-b468-ed1854c0ca8d",
   "metadata": {},
   "source": [
    "#### Grey65 First Eval"
   ]
  },
  {
   "cell_type": "code",
   "execution_count": null,
   "id": "11c5f0d1-2c70-4c96-bdf1-99174f322463",
   "metadata": {},
   "outputs": [],
   "source": [
    "backbone = \"grey65\"\n",
    "training_strategy = \"half\"\n",
    "model_list = [grey65_half_model_1, grey65_half_model_2, grey65_half_model_3]\n",
    "run_seed = [42,43,44]\n",
    "dataset_list = [cxr_test, pad_test, jsrt_test, openi_test]\n",
    "dataset_names = [\"cxr14\", \"padchest\", \"jsrt\", \"openi\"]"
   ]
  },
  {
   "cell_type": "code",
   "execution_count": null,
   "id": "42074fcf-1f39-4c14-baf0-2cc2cfdd2ad5",
   "metadata": {},
   "outputs": [],
   "source": [
    "for i in range(0,len(model_list)):\n",
    "    # load model to GPU\n",
    "    model = model_list[i].to(device)\n",
    "    for j in range(0, len(dataset_list)):\n",
    "        model_ds_img_names = []\n",
    "        model_ds_img_labels = []\n",
    "        model_ds_preds_0 = []\n",
    "        model_ds_preds_1 = []\n",
    "        # index tracker for printing\n",
    "        for curr_data in dataset_list[j]:\n",
    "            clear_output(wait=True)\n",
    "            inputs, labels = curr_data[0],curr_data[1]\n",
    "            paths = np.array(curr_data[2])\n",
    "            curr_name = paths[0].split(\"/\")[-1].split(\"_\")[0]\n",
    "            print (f\"model: {i}  dataset {j}/{len(dataset_list)}  img: {curr_name}\")\n",
    "            \n",
    "            # load sample to GPU\n",
    "            inputs = inputs.to(device)\n",
    "            labels = labels.to(device)\n",
    "            curr_image = inputs[0]\n",
    "            curr_label = labels[0].cpu().item()\n",
    "            # get predictions\n",
    "            output = model(inputs)\n",
    "            pred_0 = output.cpu()[0][0].item()\n",
    "            pred_1 = output.cpu()[0][1].item()\n",
    "\n",
    "            # log preds\n",
    "            model_ds_img_names.append(curr_name)\n",
    "            model_ds_preds_0.append(pred_0)\n",
    "            model_ds_preds_1.append(pred_1)\n",
    "            model_ds_img_labels.append(labels.cpu().item())\n",
    "        # Write current model dataset predictions\n",
    "        curr_results = pd.DataFrame()\n",
    "        curr_results['img_name'] = model_ds_img_names\n",
    "        curr_results['true_label'] = model_ds_img_labels\n",
    "        curr_results['pred_0'] = model_ds_preds_0\n",
    "        curr_results['pred_1']= model_ds_preds_1\n",
    "        curr_results.to_csv(f\"{output_base_pth}/preds_{backbone}_{training_strategy}_seed{run_seed[i]}_{dataset_names[j]}.csv\", index=False)"
   ]
  },
  {
   "cell_type": "markdown",
   "id": "71c5c98e-f2eb-4d5b-bf5c-16894cb1aaff",
   "metadata": {},
   "source": [
    "#### Single First Eval"
   ]
  },
  {
   "cell_type": "code",
   "execution_count": null,
   "id": "a74def0b-4e38-4832-9b3a-8e6fb5fd3610",
   "metadata": {},
   "outputs": [],
   "source": [
    "backbone = \"single\"\n",
    "training_strategy = \"half\"\n",
    "model_list = [single_half_model_1, single_half_model_2, single_half_model_3]\n",
    "run_seed = [42,43,44]\n",
    "dataset_list = [single_cxr_test, single_pad_test, single_jsrt_test, single_openi_test]\n",
    "dataset_names = [\"cxr14\", \"padchest\", \"jsrt\", \"openi\"]"
   ]
  },
  {
   "cell_type": "code",
   "execution_count": null,
   "id": "f8883e6d-10e0-4329-acb3-b89fe3b450ce",
   "metadata": {},
   "outputs": [],
   "source": [
    "for i in range(0,len(model_list)):\n",
    "    # load model to GPU\n",
    "    model = model_list[i].to(device)\n",
    "    for j in range(0, len(dataset_list)):\n",
    "        model_ds_img_names = []\n",
    "        model_ds_img_labels = []\n",
    "        model_ds_preds_0 = []\n",
    "        model_ds_preds_1 = []\n",
    "        # index tracker for printing\n",
    "        for curr_data in dataset_list[j]:\n",
    "            clear_output(wait=True)\n",
    "            inputs, labels = curr_data[0],curr_data[1]\n",
    "            paths = np.array(curr_data[2])\n",
    "            curr_name = paths[0].split(\"/\")[-1].split(\"_\")[0]\n",
    "            print (f\"model: {i}  dataset {j}/{len(dataset_list)}  img: {curr_name}\")\n",
    "            \n",
    "            # load sample to GPU\n",
    "            inputs = inputs.to(device)\n",
    "            labels = labels.to(device)\n",
    "            curr_image = inputs[0]\n",
    "            curr_label = labels[0].cpu().item()\n",
    "            # get predictions\n",
    "            output = model(inputs)\n",
    "            pred_0 = output.cpu()[0][0].item()\n",
    "            pred_1 = output.cpu()[0][1].item()\n",
    "\n",
    "            # log preds\n",
    "            model_ds_img_names.append(curr_name)\n",
    "            model_ds_preds_0.append(pred_0)\n",
    "            model_ds_preds_1.append(pred_1)\n",
    "            model_ds_img_labels.append(labels.cpu().item())\n",
    "        # Write current model dataset predictions\n",
    "        curr_results = pd.DataFrame()\n",
    "        curr_results['img_name'] = model_ds_img_names\n",
    "        curr_results['true_label'] = model_ds_img_labels\n",
    "        curr_results['pred_0'] = model_ds_preds_0\n",
    "        curr_results['pred_1']= model_ds_preds_1\n",
    "        curr_results.to_csv(f\"{output_base_pth}/preds_{backbone}_{training_strategy}_seed{run_seed[i]}_{dataset_names[j]}.csv\", index=False)"
   ]
  },
  {
   "cell_type": "markdown",
   "id": "c813867c-bcb3-4a1c-9ce6-f93141e0fc3d",
   "metadata": {},
   "source": [
    "#### Single65 Half Eval"
   ]
  },
  {
   "cell_type": "code",
   "execution_count": null,
   "id": "8f58405f-5149-47cc-a1cc-1bb58483f0d2",
   "metadata": {},
   "outputs": [],
   "source": [
    "backbone = \"single65\"\n",
    "training_strategy = \"half\"\n",
    "model_list = [single65_half_model_1, single65_half_model_2, single65_half_model_3]\n",
    "run_seed = [42,43,44]\n",
    "dataset_list = [single_cxr_test, single_pad_test, single_jsrt_test, single_openi_test]\n",
    "dataset_names = [\"cxr14\", \"padchest\", \"jsrt\", \"openi\"]"
   ]
  },
  {
   "cell_type": "code",
   "execution_count": null,
   "id": "2956fc00-008b-4971-ab59-a018e51380b5",
   "metadata": {},
   "outputs": [],
   "source": [
    "for i in range(0,len(model_list)):\n",
    "    # load model to GPU\n",
    "    model = model_list[i].to(device)\n",
    "    for j in range(0, len(dataset_list)):\n",
    "        model_ds_img_names = []\n",
    "        model_ds_img_labels = []\n",
    "        model_ds_preds_0 = []\n",
    "        model_ds_preds_1 = []\n",
    "        # index tracker for printing\n",
    "        for curr_data in dataset_list[j]:\n",
    "            clear_output(wait=True)\n",
    "            inputs, labels = curr_data[0],curr_data[1]\n",
    "            paths = np.array(curr_data[2])\n",
    "            curr_name = paths[0].split(\"/\")[-1].split(\"_\")[0]\n",
    "            print (f\"model: {i}  dataset {j}/{len(dataset_list)}  img: {curr_name}\")\n",
    "            \n",
    "            # load sample to GPU\n",
    "            inputs = inputs.to(device)\n",
    "            labels = labels.to(device)\n",
    "            curr_image = inputs[0]\n",
    "            curr_label = labels[0].cpu().item()\n",
    "            # get predictions\n",
    "            output = model(inputs)\n",
    "            pred_0 = output.cpu()[0][0].item()\n",
    "            pred_1 = output.cpu()[0][1].item()\n",
    "\n",
    "            # log preds\n",
    "            model_ds_img_names.append(curr_name)\n",
    "            model_ds_preds_0.append(pred_0)\n",
    "            model_ds_preds_1.append(pred_1)\n",
    "            model_ds_img_labels.append(labels.cpu().item())\n",
    "        # Write current model dataset predictions\n",
    "        curr_results = pd.DataFrame()\n",
    "        curr_results['img_name'] = model_ds_img_names\n",
    "        curr_results['true_label'] = model_ds_img_labels\n",
    "        curr_results['pred_0'] = model_ds_preds_0\n",
    "        curr_results['pred_1']= model_ds_preds_1\n",
    "        curr_results.to_csv(f\"{output_base_pth}/preds_{backbone}_{training_strategy}_seed{run_seed[i]}_{dataset_names[j]}.csv\", index=False)"
   ]
  },
  {
   "cell_type": "code",
   "execution_count": null,
   "id": "189252b0-7193-4e29-a200-9e4fbae9d019",
   "metadata": {},
   "outputs": [],
   "source": []
  }
 ],
 "metadata": {
  "kernelspec": {
   "display_name": "Python 3 (ipykernel)",
   "language": "python",
   "name": "python3"
  },
  "language_info": {
   "codemirror_mode": {
    "name": "ipython",
    "version": 3
   },
   "file_extension": ".py",
   "mimetype": "text/x-python",
   "name": "python",
   "nbconvert_exporter": "python",
   "pygments_lexer": "ipython3",
   "version": "3.11.8"
  }
 },
 "nbformat": 4,
 "nbformat_minor": 5
}
